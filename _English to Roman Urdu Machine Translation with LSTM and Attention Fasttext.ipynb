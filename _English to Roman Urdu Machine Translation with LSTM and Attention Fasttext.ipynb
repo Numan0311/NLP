{
 "cells": [
  {
   "cell_type": "markdown",
   "metadata": {},
   "source": [
    "# Introduction"
   ]
  },
  {
   "cell_type": "markdown",
   "metadata": {},
   "source": [
    "In this project we will use straightforward application of multilayered long short-term memory (LSTM) architecture with attention-mechanism to map the input sequence to a vector of a fixed dimensionality, and then another LSTM to decode the target sequence from the vector. Our main focus will be on an English to Roman Urdu translation."
   ]
  },
  {
   "cell_type": "markdown",
   "metadata": {},
   "source": [
    "# Data Preprocessing"
   ]
  },
  {
   "cell_type": "markdown",
   "metadata": {},
   "source": [
    "Import basic libraries."
   ]
  },
  {
   "cell_type": "code",
   "execution_count": 1,
   "metadata": {},
   "outputs": [],
   "source": [
    "import os, sys\n",
    "\n",
    "import numpy as np\n",
    "import pandas as pd\n",
    "from matplotlib import pyplot as plt\n",
    "%matplotlib inline"
   ]
  },
  {
   "cell_type": "markdown",
   "metadata": {},
   "source": [
    "Set basic parameters."
   ]
  },
  {
   "cell_type": "code",
   "execution_count": 2,
   "metadata": {},
   "outputs": [],
   "source": [
    "BATCHSIZE = 10\n",
    "EPOCH = 100\n",
    "LATENT_DIM = 500\n",
    "LATENT_DIM_DECODER = LATENT_DIM\n",
    "SAMPLES = 1000\n",
    "MAX_WORD_NUM = SAMPLES\n",
    "MAX_SEQ_LEN = 100\n",
    "EMBEDDING = MAX_SEQ_LEN"
   ]
  },
  {
   "cell_type": "markdown",
   "metadata": {},
   "source": [
    "Store data from textfile to usable arrays."
   ]
  },
  {
   "cell_type": "code",
   "execution_count": 3,
   "metadata": {},
   "outputs": [
    {
     "name": "stdout",
     "output_type": "stream",
     "text": [
      "Sample Count: 100.\n",
      "Sample Count: 200.\n",
      "Sample Count: 300.\n",
      "Sample Count: 400.\n",
      "Sample Count: 500.\n",
      "Sample Count: 600.\n",
      "Sample Count: 700.\n",
      "Sample Count: 800.\n",
      "Sample Count: 900.\n"
     ]
    }
   ],
   "source": [
    "eng = []\n",
    "man = []\n",
    "man_inputs = []\n",
    "count = 0\n",
    "\n",
    "# preprocess the translation file\n",
    "for line in open('romanu.txt', 'r', encoding='utf-8'):\n",
    "    if '\\t' not in line:\n",
    "        continue\n",
    "    \n",
    "    count += 1\n",
    "    if (count > SAMPLES):\n",
    "        break\n",
    "    \n",
    "    # split original and translation into lists\n",
    "    e, m, _ = line.rstrip().split('\\t')\n",
    "    eng.append(e)\n",
    "    man.append(m + ' <eos>')\n",
    "    man_inputs.append('<sos> ' + m)\n",
    "    \n",
    "    if (count % 100 == 0):\n",
    "        print ('Sample Count: {}.'.format(count))"
   ]
  },
  {
   "cell_type": "code",
   "execution_count": 4,
   "metadata": {},
   "outputs": [
    {
     "name": "stdout",
     "output_type": "stream",
     "text": [
      "Sample Count: 100.\n",
      "Sample Count: 200.\n",
      "Sample Count: 300.\n"
     ]
    }
   ],
   "source": [
    "engT = []\n",
    "manT = []\n",
    "man_inputsT = []\n",
    "count = 0\n",
    "\n",
    "# preprocess the translation file\n",
    "for line in open('roman_train.txt', 'r', encoding='utf-8'):\n",
    "    if '\\t' not in line:\n",
    "        continue\n",
    "    \n",
    "    count += 1\n",
    "    if (count > SAMPLES):\n",
    "        break\n",
    "    \n",
    "    # split original and translation into lists\n",
    "    eT, mT, _ = line.rstrip().split('\\t')\n",
    "    engT.append(eT)\n",
    "    manT.append(mT + ' <eos>')\n",
    "    man_inputsT.append('<sos> ' + mT)\n",
    "    \n",
    "    if (count % 100 == 0):\n",
    "        print ('Sample Count: {}.'.format(count))"
   ]
  },
  {
   "cell_type": "markdown",
   "metadata": {},
   "source": [
    "Tokenize the input and output sentences, and create maps that can be used by the network."
   ]
  },
  {
   "cell_type": "code",
   "execution_count": 5,
   "metadata": {},
   "outputs": [
    {
     "name": "stdout",
     "output_type": "stream",
     "text": [
      "Number of input tokens: 1185\n",
      "Maximum input sequence length: 17\n",
      "Number of output tokens: 1485\n",
      "Maximum output sequence length: 20\n"
     ]
    }
   ],
   "source": [
    "#train data tokenization\n",
    "from keras.preprocessing.text import Tokenizer\n",
    "from keras.preprocessing.sequence import pad_sequences\n",
    "\n",
    "# tokenize input and generate idx map\n",
    "tok_in = Tokenizer(num_words=MAX_WORD_NUM)\n",
    "tok_in.fit_on_texts(eng)\n",
    "eng_seq = tok_in.texts_to_sequences(eng)\n",
    "word2idx_in = tok_in.word_index\n",
    "max_in_len = max(len(s) for s in eng_seq)\n",
    "\n",
    "print(\"Number of input tokens: {}\".format(len(word2idx_in)))\n",
    "print(\"Maximum input sequence length: {}\".format(max_in_len))\n",
    "\n",
    "# tokenize output and generate idx map\n",
    "tok_out = Tokenizer(num_words=MAX_WORD_NUM, filters='')\n",
    "tok_out.fit_on_texts(man + man_inputs)\n",
    "man_seq = tok_out.texts_to_sequences(man)\n",
    "man_seq_inputs = tok_out.texts_to_sequences(man_inputs)\n",
    "word2idx_out = tok_out.word_index\n",
    "max_out_len = max(len(s) for s in man_seq)\n",
    "out_word_num = len(word2idx_out) + 1\n",
    "\n",
    "print(\"Number of output tokens: {}\".format(len(word2idx_out)))\n",
    "print(\"Maximum output sequence length: {}\".format(max_out_len))"
   ]
  },
  {
   "cell_type": "code",
   "execution_count": 7,
   "metadata": {},
   "outputs": [
    {
     "name": "stdout",
     "output_type": "stream",
     "text": [
      "Number of input tokens: 538\n",
      "Maximum input sequence length: 8\n",
      "Number of output tokens: 671\n",
      "Maximum output sequence length: 15\n"
     ]
    }
   ],
   "source": [
    "#test data tokenization\n",
    "from keras.preprocessing.text import Tokenizer\n",
    "from keras.preprocessing.sequence import pad_sequences\n",
    "\n",
    "# tokenize input and generate idx map\n",
    "tok_inT = Tokenizer(num_words=MAX_WORD_NUM)\n",
    "tok_inT.fit_on_texts(engT)\n",
    "eng_seqT = tok_inT.texts_to_sequences(engT)\n",
    "word2idx_inT = tok_inT.word_index\n",
    "max_in_lenT = max(len(s) for s in eng_seqT)\n",
    "\n",
    "print(\"Number of input tokens: {}\".format(len(word2idx_inT)))\n",
    "print(\"Maximum input sequence length: {}\".format(max_in_lenT))\n",
    "\n",
    "# tokenize output and generate idx map\n",
    "tok_outT = Tokenizer(num_words=MAX_WORD_NUM, filters='')\n",
    "tok_outT.fit_on_texts(manT + man_inputsT)\n",
    "man_seqT = tok_out.texts_to_sequences(manT)\n",
    "man_seq_inputsT = tok_outT.texts_to_sequences(man_inputsT)\n",
    "word2idx_outT = tok_outT.word_index\n",
    "max_out_lenT = max(len(s) for s in man_seqT)\n",
    "out_word_numT = len(word2idx_outT) + 1\n",
    "\n",
    "print(\"Number of output tokens: {}\".format(len(word2idx_outT)))\n",
    "print(\"Maximum output sequence length: {}\".format(max_out_lenT))"
   ]
  },
  {
   "cell_type": "markdown",
   "metadata": {},
   "source": [
    "Pad the input and output sequences to be the same length."
   ]
  },
  {
   "cell_type": "code",
   "execution_count": 8,
   "metadata": {},
   "outputs": [],
   "source": [
    "from keras.preprocessing.sequence import pad_sequences\n",
    "\n",
    "eng_seq_padded = pad_sequences(eng_seq, maxlen=max_in_len)\n",
    "man_seq_padded = pad_sequences(man_seq, maxlen=max_out_len, padding='post')\n",
    "man_seq_inputs_padded = pad_sequences(man_seq_inputs, maxlen=max_out_len, padding='post')"
   ]
  },
  {
   "cell_type": "code",
   "execution_count": 9,
   "metadata": {},
   "outputs": [],
   "source": [
    "#padding for test dataset\n",
    "from keras.preprocessing.sequence import pad_sequences\n",
    "\n",
    "eng_seq_paddedT = pad_sequences(eng_seqT, maxlen=max_in_len)\n",
    "man_seq_paddedT = pad_sequences(man_seqT, maxlen=max_out_len, padding='post')\n",
    "man_seq_inputs_paddedT = pad_sequences(man_seq_inputsT, maxlen=max_out_len, padding='post')"
   ]
  },
  {
   "cell_type": "markdown",
   "metadata": {},
   "source": [
    "Load in fasttext word vectors and use them to create word embeddings. [The dataset](https://fasttext.cc/docs/en/crawl-vectors.html) of the word vectors is downloaded from *fasttext.cc*."
   ]
  },
  {
   "cell_type": "code",
   "execution_count": 10,
   "metadata": {},
   "outputs": [
    {
     "name": "stdout",
     "output_type": "stream",
     "text": [
      "Loading wordVec\n",
      "Finished loading wordVec.\n"
     ]
    }
   ],
   "source": [
    "wordVec = {}\n",
    "\n",
    "print('Loading wordVec')\n",
    "import io\n",
    "\n",
    "fin = io.open('cc.en.300.bin', 'r', encoding='utf-8', newline='\\n', errors='ignore')\n",
    "n, d = map(lambda x: (str, int)[x.isdigit() or x.strip(\"-\").isdigit()](x), fin.readline().split())\n",
    "data = {}\n",
    "for line in fin:\n",
    "    tokens = line.rstrip().split(' ')\n",
    "    data[tokens[0]] = map(float, tokens[1:])\n",
    "print('Finished loading wordVec.')"
   ]
  },
  {
   "cell_type": "code",
   "execution_count": 11,
   "metadata": {},
   "outputs": [],
   "source": [
    "wordNum = min(MAX_WORD_NUM, len(word2idx_in) + 1)\n",
    "word_embedding = np.zeros((wordNum, EMBEDDING))\n",
    "\n",
    "# create word embedding by fetching each word vector\n",
    "for tok, idx in word2idx_in.items():\n",
    "    if idx < MAX_WORD_NUM:\n",
    "        word_vector = wordVec.get(tok)\n",
    "        if word_vector is not None:\n",
    "            word_embedding[idx] = word_vector"
   ]
  },
  {
   "cell_type": "code",
   "execution_count": null,
   "metadata": {},
   "outputs": [],
   "source": []
  },
  {
   "cell_type": "markdown",
   "metadata": {},
   "source": [
    "Create translated target matrix by loading the padded output target sequence using one-hot encoding."
   ]
  },
  {
   "cell_type": "code",
   "execution_count": 12,
   "metadata": {},
   "outputs": [],
   "source": [
    "man_target_one_hot = np.zeros((len(eng), max_out_len, out_word_num), dtype='float32')\n",
    "\n",
    "for idx, tokVec in enumerate(man_seq_padded):\n",
    "    for tok_idx, tok in enumerate(tokVec):\n",
    "        if (tok > 0):\n",
    "            man_target_one_hot[idx, tok_idx, tok] = 1"
   ]
  },
  {
   "cell_type": "markdown",
   "metadata": {},
   "source": [
    "# Model Definition"
   ]
  },
  {
   "cell_type": "markdown",
   "metadata": {},
   "source": [
    "Create the encoder and decoder before attention."
   ]
  },
  {
   "cell_type": "code",
   "execution_count": 13,
   "metadata": {},
   "outputs": [],
   "source": [
    "from keras.layers import Embedding, Input, LSTM, GRU, Dense, Bidirectional, RepeatVector, Concatenate, Activation, Dot, Lambda\n",
    "import keras.backend as K\n",
    "from keras.models import Model\n",
    "\n",
    "# Embedding\n",
    "embedding = Embedding(wordNum, EMBEDDING, weights=[word_embedding], input_length=max_in_len)\n",
    "\n",
    "# Encoder\n",
    "input_layer_encoder = Input(shape=(max_in_len,))\n",
    "embed_encoder = embedding(input_layer_encoder)\n",
    "encoder = Bidirectional(LSTM(LATENT_DIM, return_sequences=True, dropout=0.2))\n",
    "encoder_out = encoder(embed_encoder)\n",
    "\n",
    "# Decoder input\n",
    "input_layer_decoder = Input(shape=(max_out_len,))\n",
    "embed_decoder = Embedding(out_word_num, EMBEDDING)\n",
    "decoder_input = embed_decoder(input_layer_decoder)\n",
    "\n",
    "# Decoder output, after attention\n",
    "decoder = LSTM(LATENT_DIM_DECODER, return_state=True)\n",
    "dense_decode = Dense(out_word_num, activation='softmax')\n",
    "s0 = Input(shape=(LATENT_DIM_DECODER,))\n",
    "c0 = Input(shape=(LATENT_DIM_DECODER,))"
   ]
  },
  {
   "cell_type": "markdown",
   "metadata": {},
   "source": [
    "Implementation of Attention. \n"
   ]
  },
  {
   "cell_type": "code",
   "execution_count": 14,
   "metadata": {},
   "outputs": [],
   "source": [
    "# Dimension of x is N x T x D.\n",
    "def softmax(x):\n",
    "    assert(K.ndim(x) > 2)\n",
    "    e = K.exp(x - K.max(x, axis=1, keepdims=True))\n",
    "    s = K.sum(e, axis=1, keepdims=True)\n",
    "    return e / s\n",
    "\n",
    "# Some of the common layers for attention\n",
    "repeat_attn = RepeatVector(max_in_len)\n",
    "concat_attn = Concatenate(axis=-1)\n",
    "dense1_attn = Dense(10, activation='tanh')  # over time dimension T\n",
    "dense2_attn = Dense(1, activation=softmax)\n",
    "dot_attn = Dot(axes=1)                      # over time dimension T\n",
    "\n",
    "def iterAttn(h, prevOut):\n",
    "    \"\"\"\n",
    "    h: encoder encoded hidden states at all time.\n",
    "    prevOut: output at the previous time (word).\n",
    "    An iteration of attention.\n",
    "    \"\"\"\n",
    "    prevOutRepeat = repeat_attn(prevOut) # Tx, LATENT_DIM_DECODE\n",
    "    total = concat_attn([h, prevOutRepeat]) # Tx, LATENT_DIM_DECODE + LATENT_DIM * 2\n",
    "    d = dense1_attn(total)\n",
    "    alphaLayer = dense2_attn(d)\n",
    "    context = dot_attn([alphaLayer, h])\n",
    "    \n",
    "    return context"
   ]
  },
  {
   "cell_type": "markdown",
   "metadata": {},
   "source": [
    "Execute encoder-decoder and attention."
   ]
  },
  {
   "cell_type": "code",
   "execution_count": 15,
   "metadata": {},
   "outputs": [],
   "source": [
    "s = s0\n",
    "c = c0\n",
    "\n",
    "# Iterate attention Ty times\n",
    "all_out = []\n",
    "for t in range(max_out_len):\n",
    "    # Get context vector with encoder and attention\n",
    "    context = iterAttn(encoder_out, s) \n",
    "    \n",
    "    # For teacher forcing, get the previous word\n",
    "    select_layer = Lambda(lambda x: x[:, t:t+1])\n",
    "    prevWord = select_layer(decoder_input)\n",
    "    \n",
    "    # Concat context and previous word as decoder input\n",
    "    concat2 = Concatenate(axis=2)\n",
    "    decoder_in_concat = concat2([context, prevWord])\n",
    "    \n",
    "    # pass into decoder, inference output\n",
    "    pred, s, c = decoder(decoder_in_concat, initial_state=[s, c])\n",
    "    pred = dense_decode(pred)\n",
    "    all_out.append(pred)"
   ]
  },
  {
   "cell_type": "markdown",
   "metadata": {},
   "source": [
    "The output needs to be stacked to be considered as the network's output. "
   ]
  },
  {
   "cell_type": "code",
   "execution_count": 16,
   "metadata": {},
   "outputs": [],
   "source": [
    "def stack(outputs):\n",
    "    outputs = K.stack(outputs)\n",
    "    return K.permute_dimensions(outputs, pattern=(1, 0, 2))\n",
    "\n",
    "stack_layer = Lambda(stack)\n",
    "all_out = stack_layer(all_out)"
   ]
  },
  {
   "cell_type": "code",
   "execution_count": 17,
   "metadata": {},
   "outputs": [],
   "source": [
    "attnModel = Model(inputs=[input_layer_encoder, input_layer_decoder, s0, c0,],\n",
    "                 outputs=all_out)"
   ]
  },
  {
   "cell_type": "markdown",
   "metadata": {},
   "source": [
    "# Model Training"
   ]
  },
  {
   "cell_type": "markdown",
   "metadata": {},
   "source": [
    "First, define customized loss and accuracy metrics for training."
   ]
  },
  {
   "cell_type": "code",
   "execution_count": 18,
   "metadata": {},
   "outputs": [],
   "source": [
    "def myLoss(y_train, pred):\n",
    "    mask = K.cast(y_train > 0, dtype='float32')\n",
    "    val = mask * y_train * K.log(pred)\n",
    "    return -K.sum(val) / K.sum(mask)\n",
    "\n",
    "def acc(y_train, pred):\n",
    "    targ = K.argmax(y_train, axis=-1)\n",
    "    pred = K.argmax(pred, axis=-1)\n",
    "    correct = K.cast(K.equal(targ, pred), dtype='float32')\n",
    "\n",
    "    mask = K.cast(K.greater(targ, 0), dtype='float32') # filter out padding value 0.\n",
    "    correctCount = K.sum(mask * correct)\n",
    "    totalCount = K.sum(mask)\n",
    "    return correctCount / totalCount"
   ]
  },
  {
   "cell_type": "markdown",
   "metadata": {},
   "source": [
    "Train model using Adam optimizer and defined loss and metrics. "
   ]
  },
  {
   "cell_type": "code",
   "execution_count": 19,
   "metadata": {
    "scrolled": true
   },
   "outputs": [
    {
     "name": "stdout",
     "output_type": "stream",
     "text": [
      "10\n",
      "Epoch 1/100\n",
      "71/71 [==============================] - 159s 849ms/step - loss: 6.2564 - acc: 0.1313 - val_loss: 5.9129 - val_acc: 0.1138\n",
      "Epoch 2/100\n",
      "71/71 [==============================] - 34s 478ms/step - loss: 5.0757 - acc: 0.1781 - val_loss: 5.7847 - val_acc: 0.1182\n",
      "Epoch 3/100\n",
      "71/71 [==============================] - 34s 475ms/step - loss: 4.8553 - acc: 0.1812 - val_loss: 5.8966 - val_acc: 0.1191\n",
      "Epoch 4/100\n",
      "71/71 [==============================] - 34s 484ms/step - loss: 4.6954 - acc: 0.1920 - val_loss: 6.0741 - val_acc: 0.1266\n",
      "Epoch 5/100\n",
      "71/71 [==============================] - 35s 488ms/step - loss: 4.5076 - acc: 0.1995 - val_loss: 6.3314 - val_acc: 0.1290\n",
      "Epoch 6/100\n",
      "71/71 [==============================] - 37s 521ms/step - loss: 4.4444 - acc: 0.1946 - val_loss: 6.4653 - val_acc: 0.1254\n",
      "Epoch 7/100\n",
      "71/71 [==============================] - 35s 492ms/step - loss: 4.3221 - acc: 0.2019 - val_loss: 6.6450 - val_acc: 0.1285\n",
      "Epoch 8/100\n",
      "71/71 [==============================] - 33s 468ms/step - loss: 4.2649 - acc: 0.1999 - val_loss: 6.8157 - val_acc: 0.1271\n",
      "Epoch 9/100\n",
      "71/71 [==============================] - 34s 486ms/step - loss: 4.1870 - acc: 0.2017 - val_loss: 6.8038 - val_acc: 0.1294\n",
      "Epoch 10/100\n",
      "71/71 [==============================] - 36s 508ms/step - loss: 4.0650 - acc: 0.2171 - val_loss: 6.8509 - val_acc: 0.1274\n",
      "Epoch 11/100\n",
      "71/71 [==============================] - 37s 521ms/step - loss: 4.0391 - acc: 0.2046 - val_loss: 7.1037 - val_acc: 0.1267\n",
      "Epoch 12/100\n",
      "71/71 [==============================] - 34s 483ms/step - loss: 3.9942 - acc: 0.2106 - val_loss: 7.1657 - val_acc: 0.1278\n",
      "Epoch 13/100\n",
      "71/71 [==============================] - 37s 520ms/step - loss: 3.9300 - acc: 0.2080 - val_loss: 7.0459 - val_acc: 0.1267\n",
      "Epoch 14/100\n",
      "71/71 [==============================] - 34s 475ms/step - loss: 3.9036 - acc: 0.2135 - val_loss: 7.1500 - val_acc: 0.1246\n",
      "Epoch 15/100\n",
      "71/71 [==============================] - 36s 503ms/step - loss: 3.8275 - acc: 0.2122 - val_loss: 7.7079 - val_acc: 0.1251\n",
      "Epoch 16/100\n",
      "71/71 [==============================] - 35s 489ms/step - loss: 3.8473 - acc: 0.2120 - val_loss: 7.3424 - val_acc: 0.1225\n",
      "Epoch 17/100\n",
      "71/71 [==============================] - 36s 513ms/step - loss: 3.8364 - acc: 0.2093 - val_loss: 7.5752 - val_acc: 0.1219\n",
      "Epoch 18/100\n",
      "71/71 [==============================] - 36s 506ms/step - loss: 3.7406 - acc: 0.2161 - val_loss: 7.6686 - val_acc: 0.1219\n",
      "Epoch 19/100\n",
      "71/71 [==============================] - 37s 521ms/step - loss: 3.6703 - acc: 0.2161 - val_loss: 7.6950 - val_acc: 0.1227\n",
      "Epoch 20/100\n",
      "71/71 [==============================] - 35s 496ms/step - loss: 3.6610 - acc: 0.2153 - val_loss: 7.7257 - val_acc: 0.1269\n",
      "Epoch 21/100\n",
      "71/71 [==============================] - 37s 521ms/step - loss: 3.6523 - acc: 0.2175 - val_loss: 7.6508 - val_acc: 0.1218\n",
      "Epoch 22/100\n",
      "71/71 [==============================] - 33s 465ms/step - loss: 3.5669 - acc: 0.2278 - val_loss: 7.8975 - val_acc: 0.1253\n",
      "Epoch 23/100\n",
      "71/71 [==============================] - 36s 504ms/step - loss: 3.5976 - acc: 0.2293 - val_loss: 7.8348 - val_acc: 0.1221\n",
      "Epoch 24/100\n",
      "71/71 [==============================] - 36s 505ms/step - loss: 3.5971 - acc: 0.2169 - val_loss: 7.9131 - val_acc: 0.1216\n",
      "Epoch 25/100\n",
      "71/71 [==============================] - 34s 478ms/step - loss: 3.4729 - acc: 0.2314 - val_loss: 8.0842 - val_acc: 0.1204\n",
      "Epoch 26/100\n",
      "71/71 [==============================] - 33s 468ms/step - loss: 3.4382 - acc: 0.2282 - val_loss: 8.1079 - val_acc: 0.1202\n",
      "Epoch 27/100\n",
      "71/71 [==============================] - 36s 501ms/step - loss: 3.4692 - acc: 0.2306 - val_loss: 8.2694 - val_acc: 0.1279\n",
      "Epoch 28/100\n",
      "71/71 [==============================] - 37s 520ms/step - loss: 3.4253 - acc: 0.2345 - val_loss: 8.1963 - val_acc: 0.1165\n",
      "Epoch 29/100\n",
      "71/71 [==============================] - 35s 501ms/step - loss: 3.4003 - acc: 0.2289 - val_loss: 8.2386 - val_acc: 0.1163\n",
      "Epoch 30/100\n",
      "71/71 [==============================] - 38s 535ms/step - loss: 3.3201 - acc: 0.2390 - val_loss: 8.1159 - val_acc: 0.1206\n",
      "Epoch 31/100\n",
      "71/71 [==============================] - 35s 492ms/step - loss: 3.3101 - acc: 0.2333 - val_loss: 8.2606 - val_acc: 0.1181\n",
      "Epoch 32/100\n",
      "71/71 [==============================] - 36s 503ms/step - loss: 3.2065 - acc: 0.2510 - val_loss: 8.3460 - val_acc: 0.1189\n",
      "Epoch 33/100\n",
      "71/71 [==============================] - 38s 532ms/step - loss: 3.2662 - acc: 0.2468 - val_loss: 8.3791 - val_acc: 0.1227\n",
      "Epoch 34/100\n",
      "71/71 [==============================] - 38s 537ms/step - loss: 3.1987 - acc: 0.2511 - val_loss: 8.6063 - val_acc: 0.1170\n",
      "Epoch 35/100\n",
      "71/71 [==============================] - 36s 506ms/step - loss: 3.0986 - acc: 0.2637 - val_loss: 8.5458 - val_acc: 0.1172\n",
      "Epoch 36/100\n",
      "71/71 [==============================] - 37s 525ms/step - loss: 3.0375 - acc: 0.2750 - val_loss: 8.5503 - val_acc: 0.1157\n",
      "Epoch 37/100\n",
      "71/71 [==============================] - 38s 531ms/step - loss: 3.0017 - acc: 0.2778 - val_loss: 8.7558 - val_acc: 0.1118\n",
      "Epoch 38/100\n",
      "71/71 [==============================] - 36s 514ms/step - loss: 2.9463 - acc: 0.2804 - val_loss: 8.7332 - val_acc: 0.1170\n",
      "Epoch 39/100\n",
      "71/71 [==============================] - 35s 493ms/step - loss: 2.8943 - acc: 0.2861 - val_loss: 8.6791 - val_acc: 0.1133\n",
      "Epoch 40/100\n",
      "71/71 [==============================] - 33s 470ms/step - loss: 2.8978 - acc: 0.2864 - val_loss: 8.8425 - val_acc: 0.1076\n",
      "Epoch 41/100\n",
      "71/71 [==============================] - 34s 476ms/step - loss: 2.8057 - acc: 0.3071 - val_loss: 8.9388 - val_acc: 0.1066\n",
      "Epoch 42/100\n",
      "71/71 [==============================] - 37s 520ms/step - loss: 2.7261 - acc: 0.3043 - val_loss: 8.9342 - val_acc: 0.1102\n",
      "Epoch 43/100\n",
      "71/71 [==============================] - 36s 511ms/step - loss: 2.7708 - acc: 0.3042 - val_loss: 9.1294 - val_acc: 0.1087\n",
      "Epoch 44/100\n",
      "71/71 [==============================] - 37s 527ms/step - loss: 2.6099 - acc: 0.3218 - val_loss: 9.1523 - val_acc: 0.1045\n",
      "Epoch 45/100\n",
      "71/71 [==============================] - 35s 491ms/step - loss: 2.5252 - acc: 0.3518 - val_loss: 9.2065 - val_acc: 0.1071\n",
      "Epoch 46/100\n",
      "71/71 [==============================] - 38s 530ms/step - loss: 2.5133 - acc: 0.3501 - val_loss: 9.3242 - val_acc: 0.1093\n",
      "Epoch 47/100\n",
      "71/71 [==============================] - 34s 473ms/step - loss: 2.4367 - acc: 0.3529 - val_loss: 9.3115 - val_acc: 0.1060\n",
      "Epoch 48/100\n",
      "71/71 [==============================] - 33s 472ms/step - loss: 2.3288 - acc: 0.3900 - val_loss: 9.4329 - val_acc: 0.1086\n",
      "Epoch 49/100\n",
      "71/71 [==============================] - 34s 481ms/step - loss: 2.3001 - acc: 0.3799 - val_loss: 9.5052 - val_acc: 0.1093\n",
      "Epoch 50/100\n",
      "71/71 [==============================] - 33s 460ms/step - loss: 2.1670 - acc: 0.4211 - val_loss: 9.5666 - val_acc: 0.1069\n",
      "Epoch 51/100\n",
      "71/71 [==============================] - 33s 459ms/step - loss: 2.1283 - acc: 0.4231 - val_loss: 9.6880 - val_acc: 0.1067\n",
      "Epoch 52/100\n",
      "71/71 [==============================] - 31s 442ms/step - loss: 2.0615 - acc: 0.4454 - val_loss: 9.6847 - val_acc: 0.1133\n",
      "Epoch 53/100\n",
      "71/71 [==============================] - 32s 453ms/step - loss: 2.0270 - acc: 0.4512 - val_loss: 9.7391 - val_acc: 0.1121\n",
      "Epoch 54/100\n",
      "71/71 [==============================] - 31s 438ms/step - loss: 2.0134 - acc: 0.4464 - val_loss: 9.7617 - val_acc: 0.1060\n",
      "Epoch 55/100\n",
      "71/71 [==============================] - 32s 447ms/step - loss: 1.8606 - acc: 0.4830 - val_loss: 9.7439 - val_acc: 0.1047\n",
      "Epoch 56/100\n",
      "71/71 [==============================] - 32s 455ms/step - loss: 1.7628 - acc: 0.5113 - val_loss: 9.9674 - val_acc: 0.1067\n",
      "Epoch 57/100\n",
      "71/71 [==============================] - 30s 428ms/step - loss: 2.1826 - acc: 0.4363 - val_loss: 9.8929 - val_acc: 0.1107\n",
      "Epoch 58/100\n",
      "71/71 [==============================] - 24s 337ms/step - loss: 1.7173 - acc: 0.5139 - val_loss: 9.9101 - val_acc: 0.1071\n",
      "Epoch 59/100\n",
      "71/71 [==============================] - 24s 340ms/step - loss: 1.6590 - acc: 0.5373 - val_loss: 10.1642 - val_acc: 0.1091\n",
      "Epoch 60/100\n",
      "71/71 [==============================] - 24s 335ms/step - loss: 1.5236 - acc: 0.5708 - val_loss: 10.3149 - val_acc: 0.1051\n",
      "Epoch 61/100\n",
      "71/71 [==============================] - 25s 354ms/step - loss: 1.3867 - acc: 0.6186 - val_loss: 10.2735 - val_acc: 0.1080\n",
      "Epoch 62/100\n",
      "71/71 [==============================] - 26s 361ms/step - loss: 1.4056 - acc: 0.6124 - val_loss: 10.3288 - val_acc: 0.1068\n",
      "Epoch 63/100\n",
      "71/71 [==============================] - 27s 383ms/step - loss: 1.3512 - acc: 0.6188 - val_loss: 10.2827 - val_acc: 0.1035\n",
      "Epoch 64/100\n",
      "71/71 [==============================] - 27s 384ms/step - loss: 1.2763 - acc: 0.6439 - val_loss: 10.6888 - val_acc: 0.1082\n",
      "Epoch 65/100\n",
      "71/71 [==============================] - 27s 377ms/step - loss: 1.2202 - acc: 0.6625 - val_loss: 10.6407 - val_acc: 0.1025\n",
      "Epoch 66/100\n",
      "71/71 [==============================] - 27s 382ms/step - loss: 1.2030 - acc: 0.6644 - val_loss: 10.8578 - val_acc: 0.1095\n",
      "Epoch 67/100\n",
      "71/71 [==============================] - 28s 390ms/step - loss: 1.1249 - acc: 0.6870 - val_loss: 10.6964 - val_acc: 0.1074\n",
      "Epoch 68/100\n",
      "71/71 [==============================] - 28s 394ms/step - loss: 1.0535 - acc: 0.7027 - val_loss: 10.7803 - val_acc: 0.1039\n",
      "Epoch 69/100\n",
      "71/71 [==============================] - 28s 394ms/step - loss: 1.0382 - acc: 0.7174 - val_loss: 10.8673 - val_acc: 0.1051\n",
      "Epoch 70/100\n",
      "71/71 [==============================] - 27s 381ms/step - loss: 0.9573 - acc: 0.7284 - val_loss: 11.1620 - val_acc: 0.1051\n",
      "Epoch 71/100\n",
      "71/71 [==============================] - 28s 393ms/step - loss: 1.0655 - acc: 0.7319 - val_loss: 10.7972 - val_acc: 0.1025\n",
      "Epoch 72/100\n",
      "71/71 [==============================] - 29s 411ms/step - loss: 1.0015 - acc: 0.7124 - val_loss: 11.1478 - val_acc: 0.1067\n",
      "Epoch 73/100\n",
      "71/71 [==============================] - 28s 396ms/step - loss: 0.8349 - acc: 0.7788 - val_loss: 11.2529 - val_acc: 0.1072\n",
      "Epoch 74/100\n",
      "71/71 [==============================] - 29s 412ms/step - loss: 0.7839 - acc: 0.7786 - val_loss: 11.2883 - val_acc: 0.0993\n",
      "Epoch 75/100\n",
      "71/71 [==============================] - 29s 413ms/step - loss: 0.7587 - acc: 0.7727 - val_loss: 11.4377 - val_acc: 0.1051\n",
      "Epoch 76/100\n",
      "71/71 [==============================] - 31s 432ms/step - loss: 0.7369 - acc: 0.7868 - val_loss: 11.5406 - val_acc: 0.1031\n",
      "Epoch 77/100\n",
      "71/71 [==============================] - 29s 407ms/step - loss: 0.6297 - acc: 0.8197 - val_loss: 11.5615 - val_acc: 0.1035\n",
      "Epoch 78/100\n",
      "71/71 [==============================] - 29s 404ms/step - loss: 0.6031 - acc: 0.8249 - val_loss: 11.7356 - val_acc: 0.1043\n",
      "Epoch 79/100\n",
      "71/71 [==============================] - 28s 396ms/step - loss: 0.5865 - acc: 0.8243 - val_loss: 11.7946 - val_acc: 0.1012\n",
      "Epoch 80/100\n",
      "71/71 [==============================] - 33s 473ms/step - loss: 0.5509 - acc: 0.8381 - val_loss: 11.7879 - val_acc: 0.0990\n",
      "Epoch 81/100\n",
      "71/71 [==============================] - 30s 419ms/step - loss: 0.5145 - acc: 0.8470 - val_loss: 11.8325 - val_acc: 0.1036\n",
      "Epoch 82/100\n",
      "71/71 [==============================] - 29s 413ms/step - loss: 0.5048 - acc: 0.8563 - val_loss: 11.9659 - val_acc: 0.1012\n",
      "Epoch 83/100\n",
      "71/71 [==============================] - 31s 444ms/step - loss: 0.4794 - acc: 0.8418 - val_loss: 11.9434 - val_acc: 0.1036\n",
      "Epoch 84/100\n",
      "71/71 [==============================] - 29s 406ms/step - loss: 0.4852 - acc: 0.8555 - val_loss: 11.9094 - val_acc: 0.1021\n",
      "Epoch 85/100\n",
      "71/71 [==============================] - 30s 416ms/step - loss: 0.4790 - acc: 0.8510 - val_loss: 11.9276 - val_acc: 0.1017\n",
      "Epoch 86/100\n",
      "71/71 [==============================] - 31s 436ms/step - loss: 0.4704 - acc: 0.8475 - val_loss: 12.2363 - val_acc: 0.0989\n",
      "Epoch 87/100\n",
      "71/71 [==============================] - 30s 424ms/step - loss: 0.5038 - acc: 0.8371 - val_loss: 11.9831 - val_acc: 0.1044\n",
      "Epoch 88/100\n",
      "71/71 [==============================] - 30s 420ms/step - loss: 0.5005 - acc: 0.8464 - val_loss: 12.2289 - val_acc: 0.0999\n",
      "Epoch 89/100\n",
      "71/71 [==============================] - 33s 472ms/step - loss: 0.4287 - acc: 0.8592 - val_loss: 12.2507 - val_acc: 0.0994\n",
      "Epoch 90/100\n",
      "71/71 [==============================] - 30s 421ms/step - loss: 0.3665 - acc: 0.8836 - val_loss: 12.3403 - val_acc: 0.1026\n",
      "Epoch 91/100\n",
      "71/71 [==============================] - 28s 397ms/step - loss: 0.3693 - acc: 0.8715 - val_loss: 12.3662 - val_acc: 0.0984\n",
      "Epoch 92/100\n",
      "71/71 [==============================] - 27s 387ms/step - loss: 0.3485 - acc: 0.8766 - val_loss: 12.6591 - val_acc: 0.0993\n",
      "Epoch 93/100\n",
      "71/71 [==============================] - 28s 399ms/step - loss: 0.3274 - acc: 0.8837 - val_loss: 12.6545 - val_acc: 0.0991\n",
      "Epoch 94/100\n",
      "71/71 [==============================] - 29s 405ms/step - loss: 0.3808 - acc: 0.8817 - val_loss: 12.6461 - val_acc: 0.0975\n",
      "Epoch 95/100\n",
      "71/71 [==============================] - 28s 401ms/step - loss: 0.4598 - acc: 0.8454 - val_loss: 12.4480 - val_acc: 0.1010\n",
      "Epoch 96/100\n",
      "71/71 [==============================] - 28s 388ms/step - loss: 0.4153 - acc: 0.8507 - val_loss: 12.7204 - val_acc: 0.1005\n",
      "Epoch 97/100\n",
      "71/71 [==============================] - 28s 395ms/step - loss: 0.3196 - acc: 0.8715 - val_loss: 12.8212 - val_acc: 0.1030\n",
      "Epoch 98/100\n",
      "71/71 [==============================] - 29s 407ms/step - loss: 0.3090 - acc: 0.8828 - val_loss: 12.6485 - val_acc: 0.1032\n",
      "Epoch 99/100\n",
      "71/71 [==============================] - 29s 414ms/step - loss: 0.3081 - acc: 0.8820 - val_loss: 12.7782 - val_acc: 0.1008\n",
      "Epoch 100/100\n",
      "71/71 [==============================] - 28s 400ms/step - loss: 0.2933 - acc: 0.8913 - val_loss: 12.6900 - val_acc: 0.1038\n"
     ]
    }
   ],
   "source": [
    "attnModel.compile(optimizer='Adam', loss=myLoss, metrics=[acc])\n",
    "\n",
    "# Define empty s0 and c0\n",
    "init_s = np.zeros((len(eng_seq_padded), LATENT_DIM_DECODER))\n",
    "init_c = np.zeros((len(eng_seq_padded), LATENT_DIM_DECODER))\n",
    "\n",
    "print(BATCHSIZE)\n",
    "\n",
    "# Train\n",
    "history = attnModel.fit(\n",
    "    x=[eng_seq_padded, man_seq_padded, init_s, init_c],\n",
    "    y=man_target_one_hot,\n",
    "    batch_size=BATCHSIZE,\n",
    "    epochs=EPOCH,\n",
    "    validation_split=0.22\n",
    ")"
   ]
  },
  {
   "cell_type": "markdown",
   "metadata": {},
   "source": [
    "Plot training history."
   ]
  },
  {
   "cell_type": "code",
   "execution_count": 20,
   "metadata": {},
   "outputs": [
    {
     "data": {
      "image/png": "[encoded data removed]",
      "text/plain": [
       "<Figure size 432x288 with 1 Axes>"
      ]
     },
     "metadata": {
      "needs_background": "light"
     },
     "output_type": "display_data"
    },
    {
     "data": {
      "image/png": "[encoded data removed]",
      "text/plain": [
       "<Figure size 432x288 with 1 Axes>"
      ]
     },
     "metadata": {
      "needs_background": "light"
     },
     "output_type": "display_data"
    }
   ],
   "source": [
    "plt.plot(history.history['loss'], label='loss')\n",
    "plt.plot(history.history['val_loss'], label='val_loss')\n",
    "plt.legend()\n",
    "plt.show()\n",
    "\n",
    "plt.plot(history.history['acc'], label='acc')\n",
    "plt.plot(history.history['val_acc'], label='val_acc')\n",
    "plt.legend()\n",
    "plt.show()"
   ]
  },
  {
   "cell_type": "code",
   "execution_count": 21,
   "metadata": {},
   "outputs": [],
   "source": [
    "attnModel.save('attention_model_35_man.h5')"
   ]
  },
  {
   "cell_type": "markdown",
   "metadata": {},
   "source": [
    "# Testing Model"
   ]
  },
  {
   "cell_type": "markdown",
   "metadata": {},
   "source": [
    "Since in the inference model teacher forcing is not available, thus the model needs to be modified to use the previous inference result."
   ]
  },
  {
   "cell_type": "code",
   "execution_count": 22,
   "metadata": {},
   "outputs": [],
   "source": [
    "# Encoder\n",
    "encoder_inf = Model(input_layer_encoder, encoder_out)\n",
    "encoder_out_inf = Input(shape=(max_in_len, LATENT_DIM * 2,))\n",
    "\n",
    "# Decoder\n",
    "decoder_in_inf = Input(shape=(1,))\n",
    "decoder_in_embed_inf = embed_decoder(decoder_in_inf)\n",
    "\n",
    "# Context, concat without teacher forcing.\n",
    "context_inf = iterAttn(encoder_out_inf, s0)\n",
    "decoder_in_concat_inf = concat2([context_inf, decoder_in_embed_inf])\n",
    "\n",
    "# Decoder inference\n",
    "pred, s, c = decoder(decoder_in_concat_inf, initial_state=[s0, c0])\n",
    "pred_out = dense_decode(pred)\n",
    "\n",
    "# Define model\n",
    "decoder_inf = Model(\n",
    "    inputs=[decoder_in_inf, encoder_out_inf, s0, c0],\n",
    "    outputs=[pred_out, s, c]\n",
    ")"
   ]
  },
  {
   "cell_type": "markdown",
   "metadata": {},
   "source": [
    "Reverse the word-to-index maps to convert translated indices to words. Then use the inference encoder and decoder models to create predictions."
   ]
  },
  {
   "cell_type": "code",
   "execution_count": 23,
   "metadata": {},
   "outputs": [],
   "source": [
    "idx2word_in = {b:a for a, b in word2idx_inT.items()}\n",
    "idx2word_out = {b:a for a, b in word2idx_outT.items()}\n",
    "\n",
    "def inference(eng_seq):\n",
    "    # Encode\n",
    "    encoder_output = encoder_inf.predict(eng_seq)\n",
    "    \n",
    "    # Create output seq matrix\n",
    "    target_output = np.zeros((1, 1))\n",
    "    target_output[0, 0] = word2idx_outT['<sos>']\n",
    "    \n",
    "    # init\n",
    "    eos = word2idx_outT['<eos>']\n",
    "    s0 = np.zeros((1, LATENT_DIM_DECODER))\n",
    "    c0 = np.zeros((1, LATENT_DIM_DECODER))\n",
    "    \n",
    "    output_seq = []\n",
    "    s = s0\n",
    "    c = c0\n",
    "    for _ in range(max_out_len):\n",
    "        # Decoder inference\n",
    "        pred, s, c = decoder_inf.predict([target_output, encoder_output, s, c])\n",
    "        \n",
    "        # update output seq\n",
    "        tok = np.argmax(pred.flatten())\n",
    "        if tok == eos:\n",
    "            break\n",
    "        if tok > 0:\n",
    "            word = idx2word_out[tok]\n",
    "            output_seq.append(word)\n",
    "\n",
    "        # Update decoder input\n",
    "        target_output[0, 0] = tok\n",
    "        \n",
    "    sentence = ' '.join(output_seq)\n",
    "    return sentence"
   ]
  },
  {
   "cell_type": "markdown",
   "metadata": {},
   "source": [
    "Observe some of the sample inference results:"
   ]
  },
  {
   "cell_type": "code",
   "execution_count": 27,
   "metadata": {},
   "outputs": [
    {
     "name": "stdout",
     "output_type": "stream",
     "text": [
      "--------------------------------------\n",
      "English: Tom would never hurt you.\n",
      "Prediction: is ne aata. ziyada. ho\n",
      "acutual truth: tom kabhi tumhe dukh nahi day ga. <eos>\n",
      "--------------------------------------\n",
      "English: I'll be back soon.\n",
      "Prediction: ki nahi hi tha. ge? mein\n",
      "acutual truth: mein jald hi wapas aa jayo ga. <eos>\n",
      "--------------------------------------\n",
      "English: She will come if you ask her.\n",
      "Prediction: hai aap ke usay tum tak thi.\n",
      "acutual truth: agar tum usay pucho ge to woh aayi gi. <eos>\n",
      "--------------------------------------\n",
      "English: I am sorry. I am not from here.\n",
      "Prediction: is aur nahi chocolate qubool .\n",
      "acutual truth: mein moazrat chahta hon. <eos>\n",
      "--------------------------------------\n",
      "English: A heavy rain fell.\n",
      "Prediction: khanay satke satke tar woh woh woh ko mere\n",
      "acutual truth: kaafi taiz barish hui. <eos>\n"
     ]
    }
   ],
   "source": [
    "test_actual_sentence=[]\n",
    "test_predicted_sentence=[]\n",
    "for _ in range(5):\n",
    "    i = np.random.choice(len(engT))\n",
    "    eng_sen = eng_seq_paddedT[i:i+1]\n",
    "    man_pred = inference(eng_sen)\n",
    "\n",
    "    print('--------------------------------------')\n",
    "    print('English: {}'.format(engT[i]))\n",
    "    print('Prediction: {}'.format(man_pred))\n",
    "    print('acutual truth: {}'.format(manT[i])) \n",
    "    test_actual_sentence.append(engT[i])\n",
    "    test_predicted_sentence.append(man_pred)"
   ]
  },
  {
   "cell_type": "markdown",
   "metadata": {},
   "source": [
    "# Conclusion"
   ]
  },
  {
   "cell_type": "markdown",
   "metadata": {},
   "source": [
    "This project implements an seq2seq model using LSTM and attention mechanism. It is observed that the model achieves an accuracy of 0.90 on validation data, although some of the translated sentences differ from the actual output to some extent but overall they look fine.\n"
   ]
  },
  {
   "cell_type": "code",
   "execution_count": 28,
   "metadata": {},
   "outputs": [],
   "source": [
    "import nltk\n",
    "pred=[]\n",
    "for words in test_predicted_sentence:\n",
    "    pred.append(words.split())"
   ]
  },
  {
   "cell_type": "code",
   "execution_count": 29,
   "metadata": {},
   "outputs": [],
   "source": [
    "actual=[]\n",
    "for words in test_actual_sentence:\n",
    "    actual.append(words.split())"
   ]
  },
  {
   "cell_type": "code",
   "execution_count": 30,
   "metadata": {},
   "outputs": [
    {
     "name": "stdout",
     "output_type": "stream",
     "text": [
      "0.09911919910483694\n"
     ]
    }
   ],
   "source": [
    "from nltk.translate.bleu_score import SmoothingFunction\n",
    "chencherry = SmoothingFunction()\n",
    "BLEUscore = nltk.translate.bleu_score.corpus_bleu(actual,pred,smoothing_function=chencherry.method4)\n",
    "print(BLEUscore)"
   ]
  },
  {
   "cell_type": "code",
   "execution_count": 31,
   "metadata": {},
   "outputs": [
    {
     "name": "stdout",
     "output_type": "stream",
     "text": [
      "BLEU = 0.40 0.3/0.4/0.4/0.6 (BP = 1.000 ratio = 1.179 hyp_len = 33 ref_len = 28)\n"
     ]
    }
   ],
   "source": [
    "import sacrebleu\n",
    "x=sacrebleu.raw_corpus_bleu(test_predicted_sentence,[test_actual_sentence])\n",
    "print(x)"
   ]
  },
  {
   "cell_type": "code",
   "execution_count": null,
   "metadata": {},
   "outputs": [],
   "source": []
  }
 ],
 "metadata": {
  "kernelspec": {
   "display_name": "Python 3",
   "language": "python",
   "name": "python3"
  },
  "language_info": {
   "codemirror_mode": {
    "name": "ipython",
    "version": 3
   },
   "file_extension": ".py",
   "mimetype": "text/x-python",
   "name": "python",
   "nbconvert_exporter": "python",
   "pygments_lexer": "ipython3",
   "version": "3.8.3"
  }
 },
 "nbformat": 4,
 "nbformat_minor": 4
}
