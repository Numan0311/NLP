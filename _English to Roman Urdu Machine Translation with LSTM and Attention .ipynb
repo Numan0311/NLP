{
 "cells": [
  {
   "cell_type": "markdown",
   "metadata": {},
   "source": [
    "# Introduction"
   ]
  },
  {
   "cell_type": "markdown",
   "metadata": {},
   "source": [
    "In this project we will use straightforward application of multilayered long short-term memory (LSTM) architecture with attention-mechanism to map the input sequence to a vector of a fixed dimensionality, and then another LSTM to decode the target sequence from the vector. Our main focus will be on an English to Roman Urdu translation."
   ]
  },
  {
   "cell_type": "markdown",
   "metadata": {},
   "source": [
    "# Data Preprocessing"
   ]
  },
  {
   "cell_type": "markdown",
   "metadata": {},
   "source": [
    "Import basic libraries."
   ]
  },
  {
   "cell_type": "code",
   "execution_count": 1,
   "metadata": {},
   "outputs": [],
   "source": [
    "import os, sys\n",
    "\n",
    "import numpy as np\n",
    "import pandas as pd\n",
    "from matplotlib import pyplot as plt\n",
    "%matplotlib inline"
   ]
  },
  {
   "cell_type": "markdown",
   "metadata": {},
   "source": [
    "Set basic parameters."
   ]
  },
  {
   "cell_type": "code",
   "execution_count": 2,
   "metadata": {},
   "outputs": [],
   "source": [
    "BATCHSIZE = 50\n",
    "EPOCH = 100\n",
    "LATENT_DIM = 500\n",
    "LATENT_DIM_DECODER = LATENT_DIM\n",
    "SAMPLES = 1000\n",
    "MAX_WORD_NUM = SAMPLES\n",
    "MAX_SEQ_LEN = 100\n",
    "EMBEDDING = MAX_SEQ_LEN"
   ]
  },
  {
   "cell_type": "markdown",
   "metadata": {},
   "source": [
    "Store data from textfile to usable arrays."
   ]
  },
  {
   "cell_type": "code",
   "execution_count": 4,
   "metadata": {},
   "outputs": [
    {
     "name": "stdout",
     "output_type": "stream",
     "text": [
      "Sample Count: 100.\n",
      "Sample Count: 200.\n",
      "Sample Count: 300.\n",
      "Sample Count: 400.\n",
      "Sample Count: 500.\n",
      "Sample Count: 600.\n",
      "Sample Count: 700.\n",
      "Sample Count: 800.\n",
      "Sample Count: 900.\n"
     ]
    }
   ],
   "source": [
    "eng = []\n",
    "man = []\n",
    "man_inputs = []\n",
    "count = 0\n",
    "\n",
    "# preprocess the translation file\n",
    "for line in open('romanu.txt', 'r', encoding='utf-8'):\n",
    "    if '\\t' not in line:\n",
    "        continue\n",
    "    \n",
    "    count += 1\n",
    "    if (count > SAMPLES):\n",
    "        break\n",
    "    \n",
    "    # split original and translation into lists\n",
    "    e, m, _ = line.rstrip().split('\\t')\n",
    "    eng.append(e)\n",
    "    man.append(m + ' <eos>')\n",
    "    man_inputs.append('<sos> ' + m)\n",
    "    \n",
    "    if (count % 100 == 0):\n",
    "        print ('Sample Count: {}.'.format(count))"
   ]
  },
  {
   "cell_type": "code",
   "execution_count": 5,
   "metadata": {},
   "outputs": [
    {
     "name": "stdout",
     "output_type": "stream",
     "text": [
      "Sample Count: 100.\n",
      "Sample Count: 200.\n",
      "Sample Count: 300.\n"
     ]
    }
   ],
   "source": [
    "engT = []\n",
    "manT = []\n",
    "man_inputsT = []\n",
    "count = 0\n",
    "\n",
    "# preprocess the translation file\n",
    "for line in open('roman_train.txt', 'r', encoding='utf-8'):\n",
    "    if '\\t' not in line:\n",
    "        continue\n",
    "    \n",
    "    count += 1\n",
    "    if (count > SAMPLES):\n",
    "        break\n",
    "    \n",
    "    # split original and translation into lists\n",
    "    eT, mT, _ = line.rstrip().split('\\t')\n",
    "    engT.append(eT)\n",
    "    manT.append(mT + ' <eos>')\n",
    "    man_inputsT.append('<sos> ' + mT)\n",
    "    \n",
    "    if (count % 100 == 0):\n",
    "        print ('Sample Count: {}.'.format(count))"
   ]
  },
  {
   "cell_type": "markdown",
   "metadata": {},
   "source": [
    "Tokenize the input and output sentences, and create maps that can be used by the network."
   ]
  },
  {
   "cell_type": "code",
   "execution_count": 6,
   "metadata": {},
   "outputs": [
    {
     "name": "stdout",
     "output_type": "stream",
     "text": [
      "Number of input tokens: 1185\n",
      "Maximum input sequence length: 17\n",
      "Number of output tokens: 1485\n",
      "Maximum output sequence length: 20\n"
     ]
    }
   ],
   "source": [
    "#train tokenization\n",
    "from keras.preprocessing.text import Tokenizer\n",
    "from keras.preprocessing.sequence import pad_sequences\n",
    "\n",
    "# tokenize input and generate idx map\n",
    "tok_in = Tokenizer(num_words=MAX_WORD_NUM)\n",
    "tok_in.fit_on_texts(eng)\n",
    "eng_seq = tok_in.texts_to_sequences(eng)\n",
    "word2idx_in = tok_in.word_index\n",
    "max_in_len = max(len(s) for s in eng_seq)\n",
    "\n",
    "print(\"Number of input tokens: {}\".format(len(word2idx_in)))\n",
    "print(\"Maximum input sequence length: {}\".format(max_in_len))\n",
    "\n",
    "# tokenize output and generate idx map\n",
    "tok_out = Tokenizer(num_words=MAX_WORD_NUM, filters='')\n",
    "tok_out.fit_on_texts(man + man_inputs)\n",
    "man_seq = tok_out.texts_to_sequences(man)\n",
    "man_seq_inputs = tok_out.texts_to_sequences(man_inputs)\n",
    "word2idx_out = tok_out.word_index\n",
    "max_out_len = max(len(s) for s in man_seq)\n",
    "out_word_num = len(word2idx_out) + 1\n",
    "\n",
    "print(\"Number of output tokens: {}\".format(len(word2idx_out)))\n",
    "print(\"Maximum output sequence length: {}\".format(max_out_len))"
   ]
  },
  {
   "cell_type": "code",
   "execution_count": 7,
   "metadata": {},
   "outputs": [
    {
     "name": "stdout",
     "output_type": "stream",
     "text": [
      "Number of input tokens: 538\n",
      "Maximum input sequence length: 8\n",
      "Number of output tokens: 671\n",
      "Maximum output sequence length: 15\n"
     ]
    }
   ],
   "source": [
    "#test tokenization\n",
    "from keras.preprocessing.text import Tokenizer\n",
    "from keras.preprocessing.sequence import pad_sequences\n",
    "\n",
    "# tokenize input and generate idx map\n",
    "tok_inT = Tokenizer(num_words=MAX_WORD_NUM)\n",
    "tok_inT.fit_on_texts(engT)\n",
    "eng_seqT = tok_inT.texts_to_sequences(engT)\n",
    "word2idx_inT = tok_inT.word_index\n",
    "max_in_lenT = max(len(s) for s in eng_seqT)\n",
    "\n",
    "print(\"Number of input tokens: {}\".format(len(word2idx_inT)))\n",
    "print(\"Maximum input sequence length: {}\".format(max_in_lenT))\n",
    "\n",
    "# tokenize output and generate idx map\n",
    "tok_outT = Tokenizer(num_words=MAX_WORD_NUM, filters='')\n",
    "tok_outT.fit_on_texts(manT + man_inputsT)\n",
    "man_seqT = tok_out.texts_to_sequences(manT)\n",
    "man_seq_inputsT = tok_outT.texts_to_sequences(man_inputsT)\n",
    "word2idx_outT = tok_outT.word_index\n",
    "max_out_lenT = max(len(s) for s in man_seqT)\n",
    "out_word_numT = len(word2idx_outT) + 1\n",
    "\n",
    "print(\"Number of output tokens: {}\".format(len(word2idx_outT)))\n",
    "print(\"Maximum output sequence length: {}\".format(max_out_lenT))"
   ]
  },
  {
   "cell_type": "markdown",
   "metadata": {},
   "source": [
    "Pad the input and output sequences to be the same length."
   ]
  },
  {
   "cell_type": "code",
   "execution_count": 8,
   "metadata": {},
   "outputs": [],
   "source": [
    "from keras.preprocessing.sequence import pad_sequences\n",
    "\n",
    "eng_seq_padded = pad_sequences(eng_seq, maxlen=max_in_len)\n",
    "man_seq_padded = pad_sequences(man_seq, maxlen=max_out_len, padding='post')\n",
    "man_seq_inputs_padded = pad_sequences(man_seq_inputs, maxlen=max_out_len, padding='post')"
   ]
  },
  {
   "cell_type": "code",
   "execution_count": 46,
   "metadata": {},
   "outputs": [],
   "source": [
    "#padding for test dataset\n",
    "from keras.preprocessing.sequence import pad_sequences\n",
    "\n",
    "eng_seq_paddedT = pad_sequences(eng_seqT, maxlen=max_in_len)\n",
    "man_seq_paddedT = pad_sequences(man_seqT, maxlen=max_out_len, padding='post')\n",
    "man_seq_inputs_paddedT = pad_sequences(man_seq_inputsT, maxlen=max_out_len, padding='post')"
   ]
  },
  {
   "cell_type": "markdown",
   "metadata": {},
   "source": [
    "Load in word vectors and use them to create word embeddings. [The dataset](https://nlp.stanford.edu/data/glove.6B.zip) of the word vectors is downloaded from *nlp.stanford.edu*."
   ]
  },
  {
   "cell_type": "code",
   "execution_count": 10,
   "metadata": {},
   "outputs": [
    {
     "name": "stdout",
     "output_type": "stream",
     "text": [
      "Loading wordVec\n",
      "Finished loading wordVec.\n"
     ]
    }
   ],
   "source": [
    "wordVec = {}\n",
    "\n",
    "print('Loading wordVec')\n",
    "\n",
    "# load in word vectors in a dict\n",
    "with open('glove.6B.100d.txt','r', encoding='utf-8') as f:\n",
    "    for line in f:\n",
    "        data = line.split()\n",
    "        word = data[0]\n",
    "        vec = np.asarray(data[1:], dtype='float32')\n",
    "        wordVec[word] = vec\n",
    "\n",
    "print('Finished loading wordVec.')"
   ]
  },
  {
   "cell_type": "code",
   "execution_count": 11,
   "metadata": {},
   "outputs": [],
   "source": [
    "wordNum = min(MAX_WORD_NUM, len(word2idx_in) + 1)\n",
    "word_embedding = np.zeros((wordNum, EMBEDDING))\n",
    "\n",
    "# create word embedding by fetching each word vector\n",
    "for tok, idx in word2idx_in.items():\n",
    "    if idx < MAX_WORD_NUM:\n",
    "        word_vector = wordVec.get(tok)\n",
    "        if word_vector is not None:\n",
    "            word_embedding[idx] = word_vector"
   ]
  },
  {
   "cell_type": "code",
   "execution_count": 44,
   "metadata": {},
   "outputs": [],
   "source": [
    "#embading on Train\n",
    "wordNumT = min(MAX_WORD_NUM, len(word2idx_inT) + 1)\n",
    "word_embeddingT = np.zeros((wordNumT, EMBEDDING))\n",
    "\n",
    "# create word embedding by fetching each word vector\n",
    "for tok, idx in word2idx_inT.items():\n",
    "    if idx < MAX_WORD_NUM:\n",
    "        word_vectorT = wordVec.get(tok)\n",
    "        if word_vectorT is not None:\n",
    "            word_embeddingT[idx] = word_vectorT"
   ]
  },
  {
   "cell_type": "markdown",
   "metadata": {},
   "source": [
    "Create translated target matrix by loading the padded output target sequence using one-hot encoding."
   ]
  },
  {
   "cell_type": "code",
   "execution_count": 12,
   "metadata": {},
   "outputs": [],
   "source": [
    "man_target_one_hot = np.zeros((len(eng), max_out_len, out_word_num), dtype='float32')\n",
    "\n",
    "for idx, tokVec in enumerate(man_seq_padded):\n",
    "    for tok_idx, tok in enumerate(tokVec):\n",
    "        if (tok > 0):\n",
    "            man_target_one_hot[idx, tok_idx, tok] = 1"
   ]
  },
  {
   "cell_type": "markdown",
   "metadata": {},
   "source": [
    "# Model Definition"
   ]
  },
  {
   "cell_type": "markdown",
   "metadata": {},
   "source": [
    "Create the encoder and decoder before attention."
   ]
  },
  {
   "cell_type": "code",
   "execution_count": 13,
   "metadata": {},
   "outputs": [],
   "source": [
    "from keras.layers import Embedding, Input, LSTM, GRU, Dense, Bidirectional, RepeatVector, Concatenate, Activation, Dot, Lambda\n",
    "import keras.backend as K\n",
    "from keras.models import Model\n",
    "\n",
    "# Embedding\n",
    "embedding = Embedding(wordNum, EMBEDDING, weights=[word_embedding], input_length=max_in_len)\n",
    "\n",
    "# Encoder\n",
    "input_layer_encoder = Input(shape=(max_in_len,))\n",
    "embed_encoder = embedding(input_layer_encoder)\n",
    "encoder = Bidirectional(LSTM(LATENT_DIM, return_sequences=True, dropout=0.2))\n",
    "encoder_out = encoder(embed_encoder)\n",
    "\n",
    "# Decoder input\n",
    "input_layer_decoder = Input(shape=(max_out_len,))\n",
    "embed_decoder = Embedding(out_word_num, EMBEDDING)\n",
    "decoder_input = embed_decoder(input_layer_decoder)\n",
    "\n",
    "# Decoder output, after attention\n",
    "decoder = LSTM(LATENT_DIM_DECODER, return_state=True)\n",
    "dense_decode = Dense(out_word_num, activation='softmax')\n",
    "s0 = Input(shape=(LATENT_DIM_DECODER,))\n",
    "c0 = Input(shape=(LATENT_DIM_DECODER,))"
   ]
  },
  {
   "cell_type": "markdown",
   "metadata": {},
   "source": [
    "Implementation of Attention. \n"
   ]
  },
  {
   "cell_type": "code",
   "execution_count": 14,
   "metadata": {},
   "outputs": [],
   "source": [
    "# Dimension of x is N x T x D.\n",
    "def softmax(x):\n",
    "    assert(K.ndim(x) > 2)\n",
    "    e = K.exp(x - K.max(x, axis=1, keepdims=True))\n",
    "    s = K.sum(e, axis=1, keepdims=True)\n",
    "    return e / s\n",
    "\n",
    "# Some of the common layers for attention\n",
    "repeat_attn = RepeatVector(max_in_len)\n",
    "concat_attn = Concatenate(axis=-1)\n",
    "dense1_attn = Dense(10, activation='tanh')  # over time dimension T\n",
    "dense2_attn = Dense(1, activation=softmax)\n",
    "dot_attn = Dot(axes=1)                      # over time dimension T\n",
    "\n",
    "def iterAttn(h, prevOut):\n",
    "    \"\"\"\n",
    "    h: encoder encoded hidden states at all time.\n",
    "    prevOut: output at the previous time (word).\n",
    "    An iteration of attention.\n",
    "    \"\"\"\n",
    "    prevOutRepeat = repeat_attn(prevOut) # Tx, LATENT_DIM_DECODE\n",
    "    total = concat_attn([h, prevOutRepeat]) # Tx, LATENT_DIM_DECODE + LATENT_DIM * 2\n",
    "    d = dense1_attn(total)\n",
    "    alphaLayer = dense2_attn(d)\n",
    "    context = dot_attn([alphaLayer, h])\n",
    "    \n",
    "    return context"
   ]
  },
  {
   "cell_type": "markdown",
   "metadata": {},
   "source": [
    "Execute encoder-decoder and attention."
   ]
  },
  {
   "cell_type": "code",
   "execution_count": 15,
   "metadata": {},
   "outputs": [],
   "source": [
    "s = s0\n",
    "c = c0\n",
    "\n",
    "# Iterate attention Ty times\n",
    "all_out = []\n",
    "for t in range(max_out_len):\n",
    "    # Get context vector with encoder and attention\n",
    "    context = iterAttn(encoder_out, s) \n",
    "    \n",
    "    # For teacher forcing, get the previous word\n",
    "    select_layer = Lambda(lambda x: x[:, t:t+1])\n",
    "    prevWord = select_layer(decoder_input)\n",
    "    \n",
    "    # Concat context and previous word as decoder input\n",
    "    concat2 = Concatenate(axis=2)\n",
    "    decoder_in_concat = concat2([context, prevWord])\n",
    "    \n",
    "    # pass into decoder, inference output\n",
    "    pred, s, c = decoder(decoder_in_concat, initial_state=[s, c])\n",
    "    pred = dense_decode(pred)\n",
    "    all_out.append(pred)"
   ]
  },
  {
   "cell_type": "markdown",
   "metadata": {},
   "source": [
    "The output needs to be stacked to be considered as the network's output. "
   ]
  },
  {
   "cell_type": "code",
   "execution_count": 16,
   "metadata": {},
   "outputs": [],
   "source": [
    "def stack(outputs):\n",
    "    outputs = K.stack(outputs)\n",
    "    return K.permute_dimensions(outputs, pattern=(1, 0, 2))\n",
    "\n",
    "stack_layer = Lambda(stack)\n",
    "all_out = stack_layer(all_out)"
   ]
  },
  {
   "cell_type": "code",
   "execution_count": 17,
   "metadata": {},
   "outputs": [],
   "source": [
    "attnModel = Model(inputs=[input_layer_encoder, input_layer_decoder, s0, c0,],\n",
    "                 outputs=all_out)"
   ]
  },
  {
   "cell_type": "markdown",
   "metadata": {},
   "source": [
    "# Model Training"
   ]
  },
  {
   "cell_type": "markdown",
   "metadata": {},
   "source": [
    "First, define customized loss and accuracy metrics for training."
   ]
  },
  {
   "cell_type": "code",
   "execution_count": 18,
   "metadata": {},
   "outputs": [],
   "source": [
    "def myLoss(y_train, pred):\n",
    "    mask = K.cast(y_train > 0, dtype='float32')\n",
    "    val = mask * y_train * K.log(pred)\n",
    "    return -K.sum(val) / K.sum(mask)\n",
    "\n",
    "def acc(y_train, pred):\n",
    "    targ = K.argmax(y_train, axis=-1)\n",
    "    pred = K.argmax(pred, axis=-1)\n",
    "    correct = K.cast(K.equal(targ, pred), dtype='float32')\n",
    "\n",
    "    mask = K.cast(K.greater(targ, 0), dtype='float32') # filter out padding value 0.\n",
    "    correctCount = K.sum(mask * correct)\n",
    "    totalCount = K.sum(mask)\n",
    "    return correctCount / totalCount"
   ]
  },
  {
   "cell_type": "markdown",
   "metadata": {},
   "source": [
    "Train model using Adam optimizer and defined loss and metrics. "
   ]
  },
  {
   "cell_type": "code",
   "execution_count": 19,
   "metadata": {
    "scrolled": true
   },
   "outputs": [
    {
     "name": "stdout",
     "output_type": "stream",
     "text": [
      "50\n",
      "Epoch 1/100\n",
      "15/15 [==============================] - 118s 2s/step - loss: 6.6217 - acc: 0.1134 - val_loss: 5.8818 - val_acc: 0.1066\n",
      "Epoch 2/100\n",
      "15/15 [==============================] - 15s 1s/step - loss: 5.3407 - acc: 0.1714 - val_loss: 5.8246 - val_acc: 0.1157\n",
      "Epoch 3/100\n",
      "15/15 [==============================] - 15s 1s/step - loss: 5.0883 - acc: 0.1697 - val_loss: 5.7934 - val_acc: 0.1207\n",
      "Epoch 4/100\n",
      "15/15 [==============================] - 15s 1s/step - loss: 4.9177 - acc: 0.1806 - val_loss: 5.8818 - val_acc: 0.1199\n",
      "Epoch 5/100\n",
      "15/15 [==============================] - 15s 1s/step - loss: 4.8257 - acc: 0.1793 - val_loss: 5.7925 - val_acc: 0.1303\n",
      "Epoch 6/100\n",
      "15/15 [==============================] - 15s 1s/step - loss: 4.7687 - acc: 0.1904 - val_loss: 5.9201 - val_acc: 0.1293\n",
      "Epoch 7/100\n",
      "15/15 [==============================] - 15s 1s/step - loss: 4.6699 - acc: 0.1925 - val_loss: 5.9371 - val_acc: 0.1326\n",
      "Epoch 8/100\n",
      "15/15 [==============================] - 15s 1s/step - loss: 4.6148 - acc: 0.1971 - val_loss: 5.9622 - val_acc: 0.1306\n",
      "Epoch 9/100\n",
      "15/15 [==============================] - 15s 1s/step - loss: 4.5053 - acc: 0.2021 - val_loss: 5.9027 - val_acc: 0.1327\n",
      "Epoch 10/100\n",
      "15/15 [==============================] - 16s 1s/step - loss: 4.4521 - acc: 0.2016 - val_loss: 5.9499 - val_acc: 0.1311\n",
      "Epoch 11/100\n",
      "15/15 [==============================] - 15s 1s/step - loss: 4.3417 - acc: 0.2075 - val_loss: 6.4301 - val_acc: 0.1275\n",
      "Epoch 12/100\n",
      "15/15 [==============================] - 15s 1s/step - loss: 4.3865 - acc: 0.2063 - val_loss: 6.0483 - val_acc: 0.1337\n",
      "Epoch 13/100\n",
      "15/15 [==============================] - 15s 1s/step - loss: 4.2489 - acc: 0.2163 - val_loss: 5.9306 - val_acc: 0.1336\n",
      "Epoch 14/100\n",
      "15/15 [==============================] - 15s 1s/step - loss: 4.1574 - acc: 0.2166 - val_loss: 6.0733 - val_acc: 0.1413\n",
      "Epoch 15/100\n",
      "15/15 [==============================] - 16s 1s/step - loss: 4.0015 - acc: 0.2234 - val_loss: 6.0373 - val_acc: 0.1456\n",
      "Epoch 16/100\n",
      "15/15 [==============================] - 15s 1s/step - loss: 3.9270 - acc: 0.2342 - val_loss: 6.1865 - val_acc: 0.1423\n",
      "Epoch 17/100\n",
      "15/15 [==============================] - 15s 1s/step - loss: 3.8291 - acc: 0.2398 - val_loss: 6.1702 - val_acc: 0.1401\n",
      "Epoch 18/100\n",
      "15/15 [==============================] - 15s 1s/step - loss: 3.7270 - acc: 0.2421 - val_loss: 6.5339 - val_acc: 0.1385\n",
      "Epoch 19/100\n",
      "15/15 [==============================] - 15s 1s/step - loss: 3.6626 - acc: 0.2518 - val_loss: 6.2009 - val_acc: 0.1432\n",
      "Epoch 20/100\n",
      "15/15 [==============================] - 15s 1s/step - loss: 3.5979 - acc: 0.2590 - val_loss: 6.4673 - val_acc: 0.1400\n",
      "Epoch 21/100\n",
      "15/15 [==============================] - 15s 1s/step - loss: 3.4744 - acc: 0.2621 - val_loss: 6.4735 - val_acc: 0.1363\n",
      "Epoch 22/100\n",
      "15/15 [==============================] - 15s 1s/step - loss: 3.3186 - acc: 0.2689 - val_loss: 6.4319 - val_acc: 0.1402\n",
      "Epoch 23/100\n",
      "15/15 [==============================] - 15s 1s/step - loss: 3.2613 - acc: 0.2768 - val_loss: 6.5888 - val_acc: 0.1440\n",
      "Epoch 24/100\n",
      "15/15 [==============================] - 15s 1s/step - loss: 3.1324 - acc: 0.2944 - val_loss: 6.7431 - val_acc: 0.1376\n",
      "Epoch 25/100\n",
      "15/15 [==============================] - 15s 1s/step - loss: 3.1441 - acc: 0.2911 - val_loss: 6.6918 - val_acc: 0.1415\n",
      "Epoch 26/100\n",
      "15/15 [==============================] - 15s 1s/step - loss: 2.9603 - acc: 0.3156 - val_loss: 6.6149 - val_acc: 0.1397\n",
      "Epoch 27/100\n",
      "15/15 [==============================] - 16s 1s/step - loss: 2.8391 - acc: 0.3364 - val_loss: 6.7495 - val_acc: 0.1400\n",
      "Epoch 28/100\n",
      "15/15 [==============================] - 16s 1s/step - loss: 2.7607 - acc: 0.3508 - val_loss: 7.0286 - val_acc: 0.1373\n",
      "Epoch 29/100\n",
      "15/15 [==============================] - 16s 1s/step - loss: 2.7555 - acc: 0.3519 - val_loss: 6.9706 - val_acc: 0.1363\n",
      "Epoch 30/100\n",
      "15/15 [==============================] - 16s 1s/step - loss: 2.6106 - acc: 0.3599 - val_loss: 6.6562 - val_acc: 0.1378\n",
      "Epoch 31/100\n",
      "15/15 [==============================] - 16s 1s/step - loss: 2.4599 - acc: 0.4124 - val_loss: 6.9098 - val_acc: 0.1360\n",
      "Epoch 32/100\n",
      "15/15 [==============================] - 15s 1s/step - loss: 2.3238 - acc: 0.4377 - val_loss: 6.9872 - val_acc: 0.1426\n",
      "Epoch 33/100\n",
      "15/15 [==============================] - 15s 1s/step - loss: 2.3061 - acc: 0.4200 - val_loss: 7.2221 - val_acc: 0.1370\n",
      "Epoch 34/100\n",
      "15/15 [==============================] - 15s 1s/step - loss: 2.2169 - acc: 0.4539 - val_loss: 7.1453 - val_acc: 0.1391\n",
      "Epoch 35/100\n",
      "15/15 [==============================] - 15s 1s/step - loss: 2.1048 - acc: 0.4790 - val_loss: 7.1349 - val_acc: 0.1459\n",
      "Epoch 36/100\n",
      "15/15 [==============================] - 15s 1s/step - loss: 1.9434 - acc: 0.5133 - val_loss: 7.2757 - val_acc: 0.1389\n",
      "Epoch 37/100\n",
      "15/15 [==============================] - 15s 1s/step - loss: 1.8838 - acc: 0.5279 - val_loss: 7.3054 - val_acc: 0.1413\n",
      "Epoch 38/100\n",
      "15/15 [==============================] - 15s 1s/step - loss: 1.8436 - acc: 0.5288 - val_loss: 7.3332 - val_acc: 0.1367\n",
      "Epoch 39/100\n",
      "15/15 [==============================] - 15s 1s/step - loss: 1.7680 - acc: 0.5648 - val_loss: 7.4165 - val_acc: 0.1361\n",
      "Epoch 40/100\n",
      "15/15 [==============================] - 16s 1s/step - loss: 1.7103 - acc: 0.5683 - val_loss: 7.4227 - val_acc: 0.1370\n",
      "Epoch 41/100\n",
      "15/15 [==============================] - 16s 1s/step - loss: 1.6725 - acc: 0.5846 - val_loss: 7.7058 - val_acc: 0.1379\n",
      "Epoch 42/100\n",
      "15/15 [==============================] - 17s 1s/step - loss: 1.5973 - acc: 0.6020 - val_loss: 7.5651 - val_acc: 0.1361\n",
      "Epoch 43/100\n",
      "15/15 [==============================] - 15s 1s/step - loss: 1.5189 - acc: 0.6155 - val_loss: 7.4587 - val_acc: 0.1379\n",
      "Epoch 44/100\n",
      "15/15 [==============================] - 17s 1s/step - loss: 1.4853 - acc: 0.6129 - val_loss: 7.8232 - val_acc: 0.1343\n",
      "Epoch 45/100\n",
      "15/15 [==============================] - 17s 1s/step - loss: 1.4760 - acc: 0.6063 - val_loss: 7.6873 - val_acc: 0.1394\n",
      "Epoch 46/100\n",
      "15/15 [==============================] - 16s 1s/step - loss: 1.4102 - acc: 0.6343 - val_loss: 7.5041 - val_acc: 0.1406\n",
      "Epoch 47/100\n",
      "15/15 [==============================] - 18s 1s/step - loss: 1.2843 - acc: 0.6744 - val_loss: 7.7291 - val_acc: 0.1400\n",
      "Epoch 48/100\n",
      "15/15 [==============================] - 17s 1s/step - loss: 1.2512 - acc: 0.6803 - val_loss: 7.8576 - val_acc: 0.1409\n",
      "Epoch 49/100\n",
      "15/15 [==============================] - 16s 1s/step - loss: 1.2143 - acc: 0.6888 - val_loss: 7.7731 - val_acc: 0.1387\n",
      "Epoch 50/100\n",
      "15/15 [==============================] - 16s 1s/step - loss: 1.1680 - acc: 0.6971 - val_loss: 7.9398 - val_acc: 0.1347\n",
      "Epoch 51/100\n",
      "15/15 [==============================] - 16s 1s/step - loss: 1.1318 - acc: 0.7021 - val_loss: 7.9181 - val_acc: 0.1324\n",
      "Epoch 52/100\n",
      "15/15 [==============================] - 17s 1s/step - loss: 1.0366 - acc: 0.7337 - val_loss: 8.0562 - val_acc: 0.1400\n",
      "Epoch 53/100\n",
      "15/15 [==============================] - 17s 1s/step - loss: 1.0354 - acc: 0.7318 - val_loss: 7.9281 - val_acc: 0.1422\n",
      "Epoch 54/100\n",
      "15/15 [==============================] - 16s 1s/step - loss: 0.9637 - acc: 0.7543 - val_loss: 8.1283 - val_acc: 0.1403\n",
      "Epoch 55/100\n",
      "15/15 [==============================] - 15s 1s/step - loss: 0.9528 - acc: 0.7484 - val_loss: 8.2625 - val_acc: 0.1330\n",
      "Epoch 56/100\n",
      "15/15 [==============================] - 15s 1s/step - loss: 0.8829 - acc: 0.7767 - val_loss: 8.1975 - val_acc: 0.1311\n",
      "Epoch 57/100\n",
      "15/15 [==============================] - 15s 1s/step - loss: 0.9138 - acc: 0.7594 - val_loss: 8.1225 - val_acc: 0.1403\n",
      "Epoch 58/100\n",
      "15/15 [==============================] - 15s 1s/step - loss: 0.8705 - acc: 0.7665 - val_loss: 8.5002 - val_acc: 0.1351\n",
      "Epoch 59/100\n",
      "15/15 [==============================] - 15s 1s/step - loss: 0.8396 - acc: 0.7667 - val_loss: 8.4480 - val_acc: 0.1381\n",
      "Epoch 60/100\n",
      "15/15 [==============================] - 15s 1s/step - loss: 0.8542 - acc: 0.7687 - val_loss: 8.0407 - val_acc: 0.1314\n",
      "Epoch 61/100\n",
      "15/15 [==============================] - 15s 1s/step - loss: 0.8504 - acc: 0.7725 - val_loss: 8.7208 - val_acc: 0.1353\n",
      "Epoch 62/100\n",
      "15/15 [==============================] - 15s 1s/step - loss: 0.8863 - acc: 0.7422 - val_loss: 8.2455 - val_acc: 0.1413\n",
      "Epoch 63/100\n",
      "15/15 [==============================] - 17s 1s/step - loss: 0.7905 - acc: 0.7908 - val_loss: 8.7842 - val_acc: 0.1400\n",
      "Epoch 64/100\n",
      "15/15 [==============================] - 16s 1s/step - loss: 0.7562 - acc: 0.7955 - val_loss: 8.4721 - val_acc: 0.1444\n",
      "Epoch 65/100\n",
      "15/15 [==============================] - 16s 1s/step - loss: 0.6524 - acc: 0.8337 - val_loss: 8.7174 - val_acc: 0.1373\n",
      "Epoch 66/100\n",
      "15/15 [==============================] - 16s 1s/step - loss: 0.6667 - acc: 0.8180 - val_loss: 8.4457 - val_acc: 0.1420\n",
      "Epoch 67/100\n",
      "15/15 [==============================] - 16s 1s/step - loss: 0.6291 - acc: 0.8287 - val_loss: 8.7909 - val_acc: 0.1421\n",
      "Epoch 68/100\n",
      "15/15 [==============================] - 16s 1s/step - loss: 0.6254 - acc: 0.8273 - val_loss: 8.5643 - val_acc: 0.1402\n",
      "Epoch 69/100\n",
      "15/15 [==============================] - 16s 1s/step - loss: 0.6090 - acc: 0.8379 - val_loss: 9.0255 - val_acc: 0.1413\n",
      "Epoch 70/100\n",
      "15/15 [==============================] - 15s 1s/step - loss: 0.6697 - acc: 0.8092 - val_loss: 8.4317 - val_acc: 0.1409\n",
      "Epoch 71/100\n",
      "15/15 [==============================] - 16s 1s/step - loss: 0.6416 - acc: 0.8153 - val_loss: 9.0338 - val_acc: 0.1399\n",
      "Epoch 72/100\n",
      "15/15 [==============================] - 17s 1s/step - loss: 0.6024 - acc: 0.8232 - val_loss: 8.8573 - val_acc: 0.1415\n",
      "Epoch 73/100\n",
      "15/15 [==============================] - 16s 1s/step - loss: 0.6195 - acc: 0.8279 - val_loss: 8.9225 - val_acc: 0.1431\n",
      "Epoch 74/100\n",
      "15/15 [==============================] - 17s 1s/step - loss: 0.6585 - acc: 0.8097 - val_loss: 8.6911 - val_acc: 0.1422\n",
      "Epoch 75/100\n",
      "15/15 [==============================] - 16s 1s/step - loss: 0.5952 - acc: 0.8398 - val_loss: 8.9626 - val_acc: 0.1440\n",
      "Epoch 76/100\n",
      "15/15 [==============================] - 16s 1s/step - loss: 0.5338 - acc: 0.8501 - val_loss: 9.0394 - val_acc: 0.1374\n",
      "Epoch 77/100\n",
      "15/15 [==============================] - 16s 1s/step - loss: 0.5054 - acc: 0.8571 - val_loss: 8.9669 - val_acc: 0.1378\n",
      "Epoch 78/100\n",
      "15/15 [==============================] - 16s 1s/step - loss: 0.4635 - acc: 0.8757 - val_loss: 9.2149 - val_acc: 0.1415\n",
      "Epoch 79/100\n",
      "15/15 [==============================] - 16s 1s/step - loss: 0.4511 - acc: 0.8747 - val_loss: 9.0068 - val_acc: 0.1350\n",
      "Epoch 80/100\n",
      "15/15 [==============================] - 16s 1s/step - loss: 0.4441 - acc: 0.8833 - val_loss: 9.4296 - val_acc: 0.1403\n",
      "Epoch 81/100\n",
      "15/15 [==============================] - 16s 1s/step - loss: 0.5646 - acc: 0.8314 - val_loss: 9.1802 - val_acc: 0.1369\n",
      "Epoch 82/100\n",
      "15/15 [==============================] - 16s 1s/step - loss: 0.5510 - acc: 0.8383 - val_loss: 9.4665 - val_acc: 0.1394\n",
      "Epoch 83/100\n",
      "15/15 [==============================] - 16s 1s/step - loss: 0.4695 - acc: 0.8646 - val_loss: 9.2764 - val_acc: 0.1404\n",
      "Epoch 84/100\n",
      "15/15 [==============================] - 16s 1s/step - loss: 0.4641 - acc: 0.8618 - val_loss: 9.2405 - val_acc: 0.1393\n",
      "Epoch 85/100\n",
      "15/15 [==============================] - 17s 1s/step - loss: 0.4485 - acc: 0.8634 - val_loss: 9.3385 - val_acc: 0.1427\n",
      "Epoch 86/100\n",
      "15/15 [==============================] - 16s 1s/step - loss: 0.4086 - acc: 0.8866 - val_loss: 9.5177 - val_acc: 0.1436\n",
      "Epoch 87/100\n",
      "15/15 [==============================] - 16s 1s/step - loss: 0.4016 - acc: 0.8738 - val_loss: 9.5028 - val_acc: 0.1470\n",
      "Epoch 88/100\n",
      "15/15 [==============================] - 16s 1s/step - loss: 0.3799 - acc: 0.8898 - val_loss: 9.3117 - val_acc: 0.1473\n",
      "Epoch 89/100\n",
      "15/15 [==============================] - 16s 1s/step - loss: 0.3843 - acc: 0.8860 - val_loss: 9.5716 - val_acc: 0.1457\n",
      "Epoch 90/100\n",
      "15/15 [==============================] - 15s 1s/step - loss: 0.3882 - acc: 0.8798 - val_loss: 9.5266 - val_acc: 0.1493\n",
      "Epoch 91/100\n",
      "15/15 [==============================] - 16s 1s/step - loss: 0.3484 - acc: 0.8964 - val_loss: 9.6517 - val_acc: 0.1443\n",
      "Epoch 92/100\n",
      "15/15 [==============================] - 16s 1s/step - loss: 0.3512 - acc: 0.8845 - val_loss: 9.7721 - val_acc: 0.1457\n",
      "Epoch 93/100\n",
      "15/15 [==============================] - 16s 1s/step - loss: 0.3608 - acc: 0.8970 - val_loss: 9.3549 - val_acc: 0.1425\n",
      "Epoch 94/100\n",
      "15/15 [==============================] - 16s 1s/step - loss: 0.3904 - acc: 0.8796 - val_loss: 9.7178 - val_acc: 0.1417\n",
      "Epoch 95/100\n",
      "15/15 [==============================] - 16s 1s/step - loss: 0.3583 - acc: 0.8872 - val_loss: 9.6824 - val_acc: 0.1397\n",
      "Epoch 96/100\n",
      "15/15 [==============================] - 17s 1s/step - loss: 0.3602 - acc: 0.8907 - val_loss: 9.6139 - val_acc: 0.1366\n",
      "Epoch 97/100\n",
      "15/15 [==============================] - 16s 1s/step - loss: 0.3774 - acc: 0.8861 - val_loss: 9.7925 - val_acc: 0.1413\n",
      "Epoch 98/100\n",
      "15/15 [==============================] - 16s 1s/step - loss: 0.3554 - acc: 0.8920 - val_loss: 9.8575 - val_acc: 0.1435\n",
      "Epoch 99/100\n",
      "15/15 [==============================] - 16s 1s/step - loss: 0.3632 - acc: 0.8913 - val_loss: 9.8011 - val_acc: 0.1390\n",
      "Epoch 100/100\n",
      "15/15 [==============================] - 16s 1s/step - loss: 0.3315 - acc: 0.9009 - val_loss: 9.7436 - val_acc: 0.1406\n"
     ]
    }
   ],
   "source": [
    "attnModel.compile(optimizer='Adam', loss=myLoss, metrics=[acc])\n",
    "\n",
    "# Define empty s0 and c0\n",
    "init_s = np.zeros((len(eng_seq_padded), LATENT_DIM_DECODER))\n",
    "init_c = np.zeros((len(eng_seq_padded), LATENT_DIM_DECODER))\n",
    "\n",
    "print(BATCHSIZE)\n",
    "\n",
    "# Train\n",
    "history = attnModel.fit(\n",
    "    x=[eng_seq_padded, man_seq_padded, init_s, init_c],\n",
    "    y=man_target_one_hot,\n",
    "    batch_size=BATCHSIZE,\n",
    "    epochs=EPOCH,\n",
    "    validation_split=0.22\n",
    ")"
   ]
  },
  {
   "cell_type": "markdown",
   "metadata": {},
   "source": [
    "Plot training history."
   ]
  },
  {
   "cell_type": "code",
   "execution_count": 20,
   "metadata": {},
   "outputs": [
    {
     "data": {
      "image/png": "[encoded data removed]",
      "text/plain": [
       "<Figure size 432x288 with 1 Axes>"
      ]
     },
     "metadata": {
      "needs_background": "light"
     },
     "output_type": "display_data"
    },
    {
     "data": {
      "image/png": "[encoded data removed]",
      "text/plain": [
       "<Figure size 432x288 with 1 Axes>"
      ]
     },
     "metadata": {
      "needs_background": "light"
     },
     "output_type": "display_data"
    }
   ],
   "source": [
    "plt.plot(history.history['loss'], label='loss')\n",
    "plt.plot(history.history['val_loss'], label='val_loss')\n",
    "plt.legend()\n",
    "plt.show()\n",
    "\n",
    "plt.plot(history.history['acc'], label='acc')\n",
    "plt.plot(history.history['val_acc'], label='val_acc')\n",
    "plt.legend()\n",
    "plt.show()"
   ]
  },
  {
   "cell_type": "code",
   "execution_count": 21,
   "metadata": {},
   "outputs": [],
   "source": [
    "attnModel.save('attention_model_35_man.h5')"
   ]
  },
  {
   "cell_type": "markdown",
   "metadata": {},
   "source": [
    "# Testing Model"
   ]
  },
  {
   "cell_type": "markdown",
   "metadata": {},
   "source": [
    "Since in the inference model teacher forcing is not available, thus the model needs to be modified to use the previous inference result."
   ]
  },
  {
   "cell_type": "code",
   "execution_count": 47,
   "metadata": {},
   "outputs": [],
   "source": [
    "# Encoder\n",
    "encoder_inf = Model(input_layer_encoder, encoder_out)\n",
    "encoder_out_inf = Input(shape=(max_in_len, LATENT_DIM * 2,))\n",
    "\n",
    "# Decoder\n",
    "decoder_in_inf = Input(shape=(1,))\n",
    "decoder_in_embed_inf = embed_decoder(decoder_in_inf)\n",
    "\n",
    "# Context, concat without teacher forcing.\n",
    "context_inf = iterAttn(encoder_out_inf, s0)\n",
    "decoder_in_concat_inf = concat2([context_inf, decoder_in_embed_inf])\n",
    "\n",
    "# Decoder inference\n",
    "pred, s, c = decoder(decoder_in_concat_inf, initial_state=[s0, c0])\n",
    "pred_out = dense_decode(pred)\n",
    "\n",
    "# Define model\n",
    "decoder_inf = Model(\n",
    "    inputs=[decoder_in_inf, encoder_out_inf, s0, c0],\n",
    "    outputs=[pred_out, s, c]\n",
    ")"
   ]
  },
  {
   "cell_type": "markdown",
   "metadata": {},
   "source": [
    "Reverse the word-to-index maps to convert translated indices to words. Then use the inference encoder and decoder models to create predictions."
   ]
  },
  {
   "cell_type": "code",
   "execution_count": 60,
   "metadata": {},
   "outputs": [],
   "source": [
    "idx2word_in = {b:a for a, b in word2idx_inT.items()}\n",
    "idx2word_out = {b:a for a, b in word2idx_outT.items()}\n",
    "\n",
    "def inference(eng_seq):\n",
    "    # Encode\n",
    "    encoder_output = encoder_inf.predict(eng_seq)\n",
    "    \n",
    "    # Create output seq matrix\n",
    "    target_output = np.zeros((1, 1))\n",
    "    target_output[0, 0] = word2idx_outT['<sos>']\n",
    "    \n",
    "    # init\n",
    "    eos = word2idx_outT['<eos>']\n",
    "    s0 = np.zeros((1, LATENT_DIM_DECODER))\n",
    "    c0 = np.zeros((1, LATENT_DIM_DECODER))\n",
    "    \n",
    "    output_seq = []\n",
    "    s = s0\n",
    "    c = c0\n",
    "    for _ in range(max_out_len):\n",
    "        # Decoder inference\n",
    "        pred, s, c = decoder_inf.predict([target_output, encoder_output, s, c])\n",
    "        \n",
    "        # update output seq\n",
    "        tok = np.argmax(pred.flatten())\n",
    "        if tok == eos:\n",
    "            break\n",
    "        if tok > 0:\n",
    "            word = idx2word_out[tok]\n",
    "            output_seq.append(word)\n",
    "\n",
    "        # Update decoder input\n",
    "        target_output[0, 0] = tok\n",
    "        \n",
    "    sentence = ' '.join(output_seq)\n",
    "    return sentence"
   ]
  },
  {
   "cell_type": "markdown",
   "metadata": {},
   "source": [
    "Observe some of the sample inference results:"
   ]
  },
  {
   "cell_type": "code",
   "execution_count": 79,
   "metadata": {},
   "outputs": [
    {
     "name": "stdout",
     "output_type": "stream",
     "text": [
      "--------------------------------------\n",
      "English: Tom is going to get better.\n",
      "Prediction: is ne naya ke ke woh mein mein\n",
      "acutual truth: tom sehat yabi ki taraf barh raha hai. <eos>\n",
      "--------------------------------------\n",
      "English: I painted the roof light blue.\n",
      "Prediction: raha nahi nahi tha. mein mein\n",
      "acutual truth: mein ne chhat pay halkay neelay rang ka paint kya hai. <eos>\n",
      "--------------------------------------\n",
      "English: Thank you for your present.\n",
      "Prediction: hai. ne tum satke hon. mein\n",
      "acutual truth: tohfa dainay ka bohat shukriya. <eos>\n",
      "--------------------------------------\n",
      "English: We weren't cold.\n",
      "Prediction: hai laey ko sikhaya. ho\n",
      "acutual truth: hamein thand nahi lag rahi thi. <eos>\n",
      "--------------------------------------\n",
      "English: I have enough money to buy it.\n",
      "Prediction: mujhe waqt tum bhai bhai tum\n",
      "acutual truth: mere paas itnay paisay hai ke mein yeh khareed sakta hon. <eos>\n"
     ]
    }
   ],
   "source": [
    "test_actual_sentence=[]\n",
    "test_predicted_sentence=[]\n",
    "for _ in range(5):\n",
    "    i = np.random.choice(len(engT))\n",
    "    eng_sen = eng_seq_paddedT[i:i+1]\n",
    "    man_pred = inference(eng_sen)\n",
    "\n",
    "    print('--------------------------------------')\n",
    "    print('English: {}'.format(engT[i]))\n",
    "    print('Prediction: {}'.format(man_pred))\n",
    "    print('acutual truth: {}'.format(manT[i])) \n",
    "    test_actual_sentence.append(engT[i])\n",
    "    test_predicted_sentence.append(man_pred)"
   ]
  },
  {
   "cell_type": "markdown",
   "metadata": {},
   "source": [
    "# Conclusion"
   ]
  },
  {
   "cell_type": "markdown",
   "metadata": {},
   "source": [
    "This project implements an seq2seq model using LSTM and attention mechanism. It is observed that the model achieves an accuracy of 0.90 on validation data, although some of the translated sentences differ from the actual output to some extent but overall they look fine.\n"
   ]
  },
  {
   "cell_type": "code",
   "execution_count": 80,
   "metadata": {},
   "outputs": [],
   "source": [
    "import nltk\n",
    "pred=[]\n",
    "for words in test_predicted_sentence:\n",
    "    pred.append(words.split())"
   ]
  },
  {
   "cell_type": "code",
   "execution_count": 81,
   "metadata": {},
   "outputs": [],
   "source": [
    "actual=[]\n",
    "for words in test_actual_sentence:\n",
    "    actual.append(words.split())"
   ]
  },
  {
   "cell_type": "code",
   "execution_count": 82,
   "metadata": {},
   "outputs": [
    {
     "name": "stdout",
     "output_type": "stream",
     "text": [
      "0\n"
     ]
    }
   ],
   "source": [
    "from nltk.translate.bleu_score import SmoothingFunction\n",
    "chencherry = SmoothingFunction()\n",
    "BLEUscore = nltk.translate.bleu_score.corpus_bleu(actual,pred,smoothing_function=chencherry.method4)\n",
    "print(BLEUscore)"
   ]
  },
  {
   "cell_type": "code",
   "execution_count": 85,
   "metadata": {},
   "outputs": [],
   "source": [
    "#BlueScore"
   ]
  },
  {
   "cell_type": "code",
   "execution_count": 83,
   "metadata": {},
   "outputs": [
    {
     "name": "stdout",
     "output_type": "stream",
     "text": [
      "BLEU = 0.78 3.2/0.4/0.5/0.6 (BP = 1.000 ratio = 1.148 hyp_len = 31 ref_len = 27)\n"
     ]
    }
   ],
   "source": [
    "import sacrebleu\n",
    "x=sacrebleu.raw_corpus_bleu(test_predicted_sentence,[test_actual_sentence])\n",
    "print(x)"
   ]
  },
  {
   "cell_type": "code",
   "execution_count": null,
   "metadata": {},
   "outputs": [],
   "source": []
  }
 ],
 "metadata": {
  "kernelspec": {
   "display_name": "Python 3",
   "language": "python",
   "name": "python3"
  },
  "language_info": {
   "codemirror_mode": {
    "name": "ipython",
    "version": 3
   },
   "file_extension": ".py",
   "mimetype": "text/x-python",
   "name": "python",
   "nbconvert_exporter": "python",
   "pygments_lexer": "ipython3",
   "version": "3.8.3"
  }
 },
 "nbformat": 4,
 "nbformat_minor": 4
}
