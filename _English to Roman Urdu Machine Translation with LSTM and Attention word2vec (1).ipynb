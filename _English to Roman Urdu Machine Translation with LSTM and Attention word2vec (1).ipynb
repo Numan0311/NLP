{
 "cells": [
  {
   "cell_type": "markdown",
   "metadata": {},
   "source": [
    "# Introduction"
   ]
  },
  {
   "cell_type": "markdown",
   "metadata": {},
   "source": [
    "In this project we will use straightforward application of multilayered long short-term memory (LSTM) architecture with attention-mechanism to map the input sequence to a vector of a fixed dimensionality, and then another LSTM to decode the target sequence from the vector. Our main focus will be on an English to Roman Urdu translation."
   ]
  },
  {
   "cell_type": "markdown",
   "metadata": {},
   "source": [
    "# Data Preprocessing"
   ]
  },
  {
   "cell_type": "markdown",
   "metadata": {},
   "source": [
    "Import basic libraries."
   ]
  },
  {
   "cell_type": "code",
   "execution_count": 1,
   "metadata": {},
   "outputs": [],
   "source": [
    "import os, sys\n",
    "\n",
    "import numpy as np\n",
    "import pandas as pd\n",
    "from matplotlib import pyplot as plt\n",
    "%matplotlib inline"
   ]
  },
  {
   "cell_type": "markdown",
   "metadata": {},
   "source": [
    "Set basic parameters."
   ]
  },
  {
   "cell_type": "code",
   "execution_count": 2,
   "metadata": {},
   "outputs": [],
   "source": [
    "BATCHSIZE = 10\n",
    "EPOCH = 100\n",
    "LATENT_DIM = 500\n",
    "LATENT_DIM_DECODER = LATENT_DIM\n",
    "SAMPLES = 1000\n",
    "MAX_WORD_NUM = SAMPLES\n",
    "MAX_SEQ_LEN = 100\n",
    "EMBEDDING = MAX_SEQ_LEN"
   ]
  },
  {
   "cell_type": "markdown",
   "metadata": {},
   "source": [
    "Store data from textfile to usable arrays."
   ]
  },
  {
   "cell_type": "code",
   "execution_count": 3,
   "metadata": {},
   "outputs": [
    {
     "name": "stdout",
     "output_type": "stream",
     "text": [
      "Sample Count: 100.\n",
      "Sample Count: 200.\n",
      "Sample Count: 300.\n",
      "Sample Count: 400.\n",
      "Sample Count: 500.\n",
      "Sample Count: 600.\n",
      "Sample Count: 700.\n",
      "Sample Count: 800.\n",
      "Sample Count: 900.\n"
     ]
    }
   ],
   "source": [
    "eng = []\n",
    "man = []\n",
    "man_inputs = []\n",
    "count = 0\n",
    "\n",
    "# preprocess the translation file\n",
    "for line in open('romanu.txt', 'r', encoding='utf-8'):\n",
    "    if '\\t' not in line:\n",
    "        continue\n",
    "    \n",
    "    count += 1\n",
    "    if (count > SAMPLES):\n",
    "        break\n",
    "    \n",
    "    # split original and translation into lists\n",
    "    e, m, _ = line.rstrip().split('\\t')\n",
    "    eng.append(e)\n",
    "    man.append(m + ' <eos>')\n",
    "    man_inputs.append('<sos> ' + m)\n",
    "    \n",
    "    if (count % 100 == 0):\n",
    "        print ('Sample Count: {}.'.format(count))"
   ]
  },
  {
   "cell_type": "code",
   "execution_count": 4,
   "metadata": {},
   "outputs": [
    {
     "name": "stdout",
     "output_type": "stream",
     "text": [
      "Sample Count: 100.\n",
      "Sample Count: 200.\n",
      "Sample Count: 300.\n"
     ]
    }
   ],
   "source": [
    "engT = []\n",
    "manT = []\n",
    "man_inputsT = []\n",
    "count = 0\n",
    "\n",
    "# preprocess the translation file\n",
    "for line in open('roman_train.txt', 'r', encoding='utf-8'):\n",
    "    if '\\t' not in line:\n",
    "        continue\n",
    "    \n",
    "    count += 1\n",
    "    if (count > SAMPLES):\n",
    "        break\n",
    "    \n",
    "    # split original and translation into lists\n",
    "    eT, mT, _ = line.rstrip().split('\\t')\n",
    "    engT.append(eT)\n",
    "    manT.append(mT + ' <eos>')\n",
    "    man_inputsT.append('<sos> ' + mT)\n",
    "    \n",
    "    if (count % 100 == 0):\n",
    "        print ('Sample Count: {}.'.format(count))"
   ]
  },
  {
   "cell_type": "markdown",
   "metadata": {},
   "source": [
    "Tokenize the input and output sentences, and create maps that can be used by the network."
   ]
  },
  {
   "cell_type": "code",
   "execution_count": 5,
   "metadata": {},
   "outputs": [
    {
     "name": "stdout",
     "output_type": "stream",
     "text": [
      "Number of input tokens: 1185\n",
      "Maximum input sequence length: 17\n",
      "Number of output tokens: 1485\n",
      "Maximum output sequence length: 20\n"
     ]
    }
   ],
   "source": [
    "#train data tokenization\n",
    "from keras.preprocessing.text import Tokenizer\n",
    "from keras.preprocessing.sequence import pad_sequences\n",
    "\n",
    "# tokenize input and generate idx map\n",
    "tok_in = Tokenizer(num_words=MAX_WORD_NUM)\n",
    "tok_in.fit_on_texts(eng)\n",
    "eng_seq = tok_in.texts_to_sequences(eng)\n",
    "word2idx_in = tok_in.word_index\n",
    "max_in_len = max(len(s) for s in eng_seq)\n",
    "\n",
    "print(\"Number of input tokens: {}\".format(len(word2idx_in)))\n",
    "print(\"Maximum input sequence length: {}\".format(max_in_len))\n",
    "\n",
    "# tokenize output and generate idx map\n",
    "tok_out = Tokenizer(num_words=MAX_WORD_NUM, filters='')\n",
    "tok_out.fit_on_texts(man + man_inputs)\n",
    "man_seq = tok_out.texts_to_sequences(man)\n",
    "man_seq_inputs = tok_out.texts_to_sequences(man_inputs)\n",
    "word2idx_out = tok_out.word_index\n",
    "max_out_len = max(len(s) for s in man_seq)\n",
    "out_word_num = len(word2idx_out) + 1\n",
    "\n",
    "print(\"Number of output tokens: {}\".format(len(word2idx_out)))\n",
    "print(\"Maximum output sequence length: {}\".format(max_out_len))"
   ]
  },
  {
   "cell_type": "code",
   "execution_count": 6,
   "metadata": {},
   "outputs": [
    {
     "name": "stdout",
     "output_type": "stream",
     "text": [
      "Number of input tokens: 538\n",
      "Maximum input sequence length: 8\n",
      "Number of output tokens: 671\n",
      "Maximum output sequence length: 15\n"
     ]
    }
   ],
   "source": [
    "#test data tokenization\n",
    "from keras.preprocessing.text import Tokenizer\n",
    "from keras.preprocessing.sequence import pad_sequences\n",
    "\n",
    "# tokenize input and generate idx map\n",
    "tok_inT = Tokenizer(num_words=MAX_WORD_NUM)\n",
    "tok_inT.fit_on_texts(engT)\n",
    "eng_seqT = tok_inT.texts_to_sequences(engT)\n",
    "word2idx_inT = tok_inT.word_index\n",
    "max_in_lenT = max(len(s) for s in eng_seqT)\n",
    "\n",
    "print(\"Number of input tokens: {}\".format(len(word2idx_inT)))\n",
    "print(\"Maximum input sequence length: {}\".format(max_in_lenT))\n",
    "\n",
    "# tokenize output and generate idx map\n",
    "tok_outT = Tokenizer(num_words=MAX_WORD_NUM, filters='')\n",
    "tok_outT.fit_on_texts(manT + man_inputsT)\n",
    "man_seqT = tok_out.texts_to_sequences(manT)\n",
    "man_seq_inputsT = tok_outT.texts_to_sequences(man_inputsT)\n",
    "word2idx_outT = tok_outT.word_index\n",
    "max_out_lenT = max(len(s) for s in man_seqT)\n",
    "out_word_numT = len(word2idx_outT) + 1\n",
    "\n",
    "print(\"Number of output tokens: {}\".format(len(word2idx_outT)))\n",
    "print(\"Maximum output sequence length: {}\".format(max_out_lenT))"
   ]
  },
  {
   "cell_type": "markdown",
   "metadata": {},
   "source": [
    "Pad the input and output sequences to be the same length."
   ]
  },
  {
   "cell_type": "code",
   "execution_count": 7,
   "metadata": {},
   "outputs": [],
   "source": [
    "from keras.preprocessing.sequence import pad_sequences\n",
    "\n",
    "eng_seq_padded = pad_sequences(eng_seq, maxlen=max_in_len)\n",
    "man_seq_padded = pad_sequences(man_seq, maxlen=max_out_len, padding='post')\n",
    "man_seq_inputs_padded = pad_sequences(man_seq_inputs, maxlen=max_out_len, padding='post')"
   ]
  },
  {
   "cell_type": "code",
   "execution_count": 8,
   "metadata": {},
   "outputs": [],
   "source": [
    "#padding for test dataset\n",
    "from keras.preprocessing.sequence import pad_sequences\n",
    "\n",
    "eng_seq_paddedT = pad_sequences(eng_seqT, maxlen=max_in_len)\n",
    "man_seq_paddedT = pad_sequences(man_seqT, maxlen=max_out_len, padding='post')\n",
    "man_seq_inputs_paddedT = pad_sequences(man_seq_inputsT, maxlen=max_out_len, padding='post')"
   ]
  },
  {
   "cell_type": "markdown",
   "metadata": {},
   "source": [
    "Load in word2vec word vectors and use them to create word embeddings. [The dataset](https://github.com/alexandres/lexvec#pre-trained-vectors) from this link"
   ]
  },
  {
   "cell_type": "code",
   "execution_count": 10,
   "metadata": {},
   "outputs": [
    {
     "name": "stdout",
     "output_type": "stream",
     "text": [
      "Loading wordVec\n",
      "Finished loading wordVec.\n"
     ]
    }
   ],
   "source": [
    "wordVec = {}\n",
    "\n",
    "print('Loading wordVec')\n",
    "import io\n",
    "\n",
    "fin = io.open('lexvec.enwiki+newscrawl.300d.W.pos.vectors', 'r', encoding='utf-8', newline='\\n', errors='ignore')\n",
    "n, d = map(lambda x: (str, int)[x.isdigit() or x.strip(\"-\").isdigit()](x), fin.readline().split())\n",
    "data = {}\n",
    "for line in fin:\n",
    "    tokens = line.rstrip().split(' ')\n",
    "    data[tokens[0]] = map(float, tokens[1:])\n",
    "print('Finished loading wordVec.')"
   ]
  },
  {
   "cell_type": "code",
   "execution_count": 11,
   "metadata": {},
   "outputs": [],
   "source": [
    "wordNum = min(MAX_WORD_NUM, len(word2idx_in) + 1)\n",
    "word_embedding = np.zeros((wordNum, EMBEDDING))\n",
    "\n",
    "# create word embedding by fetching each word vector\n",
    "for tok, idx in word2idx_in.items():\n",
    "    if idx < MAX_WORD_NUM:\n",
    "        word_vector = wordVec.get(tok)\n",
    "        if word_vector is not None:\n",
    "            word_embedding[idx] = word_vector"
   ]
  },
  {
   "cell_type": "code",
   "execution_count": null,
   "metadata": {},
   "outputs": [],
   "source": []
  },
  {
   "cell_type": "markdown",
   "metadata": {},
   "source": [
    "Create translated target matrix by loading the padded output target sequence using one-hot encoding."
   ]
  },
  {
   "cell_type": "code",
   "execution_count": 12,
   "metadata": {},
   "outputs": [],
   "source": [
    "man_target_one_hot = np.zeros((len(eng), max_out_len, out_word_num), dtype='float32')\n",
    "\n",
    "for idx, tokVec in enumerate(man_seq_padded):\n",
    "    for tok_idx, tok in enumerate(tokVec):\n",
    "        if (tok > 0):\n",
    "            man_target_one_hot[idx, tok_idx, tok] = 1"
   ]
  },
  {
   "cell_type": "markdown",
   "metadata": {},
   "source": [
    "# Model Definition"
   ]
  },
  {
   "cell_type": "markdown",
   "metadata": {},
   "source": [
    "Create the encoder and decoder before attention."
   ]
  },
  {
   "cell_type": "code",
   "execution_count": 13,
   "metadata": {},
   "outputs": [],
   "source": [
    "from keras.layers import Embedding, Input, LSTM, GRU, Dense, Bidirectional, RepeatVector, Concatenate, Activation, Dot, Lambda\n",
    "import keras.backend as K\n",
    "from keras.models import Model\n",
    "\n",
    "# Embedding\n",
    "embedding = Embedding(wordNum, EMBEDDING, weights=[word_embedding], input_length=max_in_len)\n",
    "\n",
    "# Encoder\n",
    "input_layer_encoder = Input(shape=(max_in_len,))\n",
    "embed_encoder = embedding(input_layer_encoder)\n",
    "encoder = Bidirectional(LSTM(LATENT_DIM, return_sequences=True, dropout=0.2))\n",
    "encoder_out = encoder(embed_encoder)\n",
    "\n",
    "# Decoder input\n",
    "input_layer_decoder = Input(shape=(max_out_len,))\n",
    "embed_decoder = Embedding(out_word_num, EMBEDDING)\n",
    "decoder_input = embed_decoder(input_layer_decoder)\n",
    "\n",
    "# Decoder output, after attention\n",
    "decoder = LSTM(LATENT_DIM_DECODER, return_state=True)\n",
    "dense_decode = Dense(out_word_num, activation='softmax')\n",
    "s0 = Input(shape=(LATENT_DIM_DECODER,))\n",
    "c0 = Input(shape=(LATENT_DIM_DECODER,))"
   ]
  },
  {
   "cell_type": "markdown",
   "metadata": {},
   "source": [
    "Implementation of Attention. \n"
   ]
  },
  {
   "cell_type": "code",
   "execution_count": 14,
   "metadata": {},
   "outputs": [],
   "source": [
    "# Dimension of x is N x T x D.\n",
    "def softmax(x):\n",
    "    assert(K.ndim(x) > 2)\n",
    "    e = K.exp(x - K.max(x, axis=1, keepdims=True))\n",
    "    s = K.sum(e, axis=1, keepdims=True)\n",
    "    return e / s\n",
    "\n",
    "# Some of the common layers for attention\n",
    "repeat_attn = RepeatVector(max_in_len)\n",
    "concat_attn = Concatenate(axis=-1)\n",
    "dense1_attn = Dense(10, activation='tanh')  # over time dimension T\n",
    "dense2_attn = Dense(1, activation=softmax)\n",
    "dot_attn = Dot(axes=1)                      # over time dimension T\n",
    "\n",
    "def iterAttn(h, prevOut):\n",
    "    \"\"\"\n",
    "    h: encoder encoded hidden states at all time.\n",
    "    prevOut: output at the previous time (word).\n",
    "    An iteration of attention.\n",
    "    \"\"\"\n",
    "    prevOutRepeat = repeat_attn(prevOut) # Tx, LATENT_DIM_DECODE\n",
    "    total = concat_attn([h, prevOutRepeat]) # Tx, LATENT_DIM_DECODE + LATENT_DIM * 2\n",
    "    d = dense1_attn(total)\n",
    "    alphaLayer = dense2_attn(d)\n",
    "    context = dot_attn([alphaLayer, h])\n",
    "    \n",
    "    return context"
   ]
  },
  {
   "cell_type": "markdown",
   "metadata": {},
   "source": [
    "Execute encoder-decoder and attention."
   ]
  },
  {
   "cell_type": "code",
   "execution_count": 18,
   "metadata": {},
   "outputs": [],
   "source": [
    "s = s0\n",
    "c = c0\n",
    "\n",
    "# Iterate attention Ty times\n",
    "all_out = []\n",
    "for t in range(max_out_len):\n",
    "    # Get context vector with encoder and attention\n",
    "    context = iterAttn(encoder_out, s) \n",
    "    \n",
    "    # For teacher forcing, get the previous word\n",
    "    select_layer = Lambda(lambda x: x[:, t:t+1])\n",
    "    prevWord = select_layer(decoder_input)\n",
    "    \n",
    "    # Concat context and previous word as decoder input\n",
    "    concat2 = Concatenate(axis=2)\n",
    "    decoder_in_concat = concat2([context, prevWord])\n",
    "    \n",
    "    # pass into decoder, inference output\n",
    "    pred, s, c = decoder(decoder_in_concat, initial_state=[s, c])\n",
    "    pred = dense_decode(pred)\n",
    "    all_out.append(pred)"
   ]
  },
  {
   "cell_type": "markdown",
   "metadata": {},
   "source": [
    "The output needs to be stacked to be considered as the network's output. "
   ]
  },
  {
   "cell_type": "code",
   "execution_count": 19,
   "metadata": {},
   "outputs": [],
   "source": [
    "def stack(outputs):\n",
    "    outputs = K.stack(outputs)\n",
    "    return K.permute_dimensions(outputs, pattern=(1, 0, 2))\n",
    "\n",
    "stack_layer = Lambda(stack)\n",
    "all_out = stack_layer(all_out)"
   ]
  },
  {
   "cell_type": "code",
   "execution_count": 20,
   "metadata": {},
   "outputs": [],
   "source": [
    "attnModel = Model(inputs=[input_layer_encoder, input_layer_decoder, s0, c0,],\n",
    "                 outputs=all_out)"
   ]
  },
  {
   "cell_type": "markdown",
   "metadata": {},
   "source": [
    "# Model Training"
   ]
  },
  {
   "cell_type": "markdown",
   "metadata": {},
   "source": [
    "First, define customized loss and accuracy metrics for training."
   ]
  },
  {
   "cell_type": "code",
   "execution_count": 21,
   "metadata": {},
   "outputs": [],
   "source": [
    "def myLoss(y_train, pred):\n",
    "    mask = K.cast(y_train > 0, dtype='float32')\n",
    "    val = mask * y_train * K.log(pred)\n",
    "    return -K.sum(val) / K.sum(mask)\n",
    "\n",
    "def acc(y_train, pred):\n",
    "    targ = K.argmax(y_train, axis=-1)\n",
    "    pred = K.argmax(pred, axis=-1)\n",
    "    correct = K.cast(K.equal(targ, pred), dtype='float32')\n",
    "\n",
    "    mask = K.cast(K.greater(targ, 0), dtype='float32') # filter out padding value 0.\n",
    "    correctCount = K.sum(mask * correct)\n",
    "    totalCount = K.sum(mask)\n",
    "    return correctCount / totalCount"
   ]
  },
  {
   "cell_type": "markdown",
   "metadata": {},
   "source": [
    "Train model using Adam optimizer and defined loss and metrics. "
   ]
  },
  {
   "cell_type": "code",
   "execution_count": 22,
   "metadata": {
    "scrolled": true
   },
   "outputs": [
    {
     "name": "stdout",
     "output_type": "stream",
     "text": [
      "10\n",
      "Epoch 1/100\n",
      "71/71 [==============================] - 136s 727ms/step - loss: 6.2666 - acc: 0.1279 - val_loss: 5.7645 - val_acc: 0.1100\n",
      "Epoch 2/100\n",
      "71/71 [==============================] - 31s 435ms/step - loss: 5.0491 - acc: 0.1775 - val_loss: 6.0137 - val_acc: 0.1181\n",
      "Epoch 3/100\n",
      "71/71 [==============================] - 31s 434ms/step - loss: 4.8609 - acc: 0.1846 - val_loss: 5.9717 - val_acc: 0.1169\n",
      "Epoch 4/100\n",
      "71/71 [==============================] - 31s 437ms/step - loss: 4.7220 - acc: 0.1885 - val_loss: 6.0979 - val_acc: 0.1266\n",
      "Epoch 5/100\n",
      "71/71 [==============================] - 31s 443ms/step - loss: 4.5405 - acc: 0.1924 - val_loss: 6.2605 - val_acc: 0.1274\n",
      "Epoch 6/100\n",
      "71/71 [==============================] - 31s 439ms/step - loss: 4.4607 - acc: 0.1952 - val_loss: 6.4584 - val_acc: 0.1236\n",
      "Epoch 7/100\n",
      "71/71 [==============================] - 32s 446ms/step - loss: 4.3143 - acc: 0.2054 - val_loss: 6.4478 - val_acc: 0.1291\n",
      "Epoch 8/100\n",
      "71/71 [==============================] - 31s 441ms/step - loss: 4.2277 - acc: 0.2048 - val_loss: 6.6661 - val_acc: 0.1226\n",
      "Epoch 9/100\n",
      "71/71 [==============================] - 36s 507ms/step - loss: 4.1911 - acc: 0.2049 - val_loss: 6.9588 - val_acc: 0.1274\n",
      "Epoch 10/100\n",
      "71/71 [==============================] - 31s 440ms/step - loss: 4.0966 - acc: 0.2090 - val_loss: 6.9091 - val_acc: 0.1224\n",
      "Epoch 11/100\n",
      "71/71 [==============================] - 31s 430ms/step - loss: 4.0170 - acc: 0.2084 - val_loss: 6.9367 - val_acc: 0.1279\n",
      "Epoch 12/100\n",
      "71/71 [==============================] - 30s 428ms/step - loss: 3.9668 - acc: 0.2134 - val_loss: 7.1832 - val_acc: 0.1256\n",
      "Epoch 13/100\n",
      "71/71 [==============================] - 31s 433ms/step - loss: 3.8930 - acc: 0.2177 - val_loss: 7.1299 - val_acc: 0.1290\n",
      "Epoch 14/100\n",
      "71/71 [==============================] - 31s 430ms/step - loss: 3.8457 - acc: 0.2182 - val_loss: 7.1723 - val_acc: 0.1243\n",
      "Epoch 15/100\n",
      "71/71 [==============================] - 31s 434ms/step - loss: 3.8306 - acc: 0.2084 - val_loss: 7.3082 - val_acc: 0.1285\n",
      "Epoch 16/100\n",
      "71/71 [==============================] - 31s 441ms/step - loss: 3.9030 - acc: 0.2048 - val_loss: 7.1207 - val_acc: 0.1209\n",
      "Epoch 17/100\n",
      "71/71 [==============================] - 31s 438ms/step - loss: 3.7839 - acc: 0.2196 - val_loss: 7.2051 - val_acc: 0.1212\n",
      "Epoch 18/100\n",
      "71/71 [==============================] - 31s 439ms/step - loss: 3.7429 - acc: 0.2103 - val_loss: 7.3680 - val_acc: 0.1302\n",
      "Epoch 19/100\n",
      "71/71 [==============================] - 31s 438ms/step - loss: 3.7074 - acc: 0.2169 - val_loss: 7.4615 - val_acc: 0.1227\n",
      "Epoch 20/100\n",
      "71/71 [==============================] - 31s 438ms/step - loss: 3.6523 - acc: 0.2206 - val_loss: 7.4619 - val_acc: 0.1269\n",
      "Epoch 21/100\n",
      "71/71 [==============================] - 32s 444ms/step - loss: 3.5603 - acc: 0.2384 - val_loss: 7.5576 - val_acc: 0.1211\n",
      "Epoch 22/100\n",
      "71/71 [==============================] - 35s 492ms/step - loss: 3.5196 - acc: 0.2230 - val_loss: 7.5211 - val_acc: 0.1194\n",
      "Epoch 23/100\n",
      "71/71 [==============================] - 31s 433ms/step - loss: 3.5114 - acc: 0.2368 - val_loss: 7.3663 - val_acc: 0.1153\n",
      "Epoch 24/100\n",
      "71/71 [==============================] - 31s 435ms/step - loss: 3.7322 - acc: 0.2115 - val_loss: 7.4891 - val_acc: 0.1204\n",
      "Epoch 25/100\n",
      "71/71 [==============================] - 31s 431ms/step - loss: 3.4724 - acc: 0.2280 - val_loss: 7.7187 - val_acc: 0.1215\n",
      "Epoch 26/100\n",
      "71/71 [==============================] - 31s 432ms/step - loss: 3.3567 - acc: 0.2415 - val_loss: 7.6653 - val_acc: 0.1184\n",
      "Epoch 27/100\n",
      "71/71 [==============================] - 31s 432ms/step - loss: 3.3190 - acc: 0.2453 - val_loss: 7.6900 - val_acc: 0.1190\n",
      "Epoch 28/100\n",
      "71/71 [==============================] - 31s 431ms/step - loss: 3.3355 - acc: 0.2367 - val_loss: 7.8887 - val_acc: 0.1194\n",
      "Epoch 29/100\n",
      "71/71 [==============================] - 31s 434ms/step - loss: 3.2082 - acc: 0.2463 - val_loss: 7.8998 - val_acc: 0.1159\n",
      "Epoch 30/100\n",
      "71/71 [==============================] - 31s 434ms/step - loss: 3.2008 - acc: 0.2538 - val_loss: 8.0611 - val_acc: 0.1145\n",
      "Epoch 31/100\n",
      "71/71 [==============================] - 31s 444ms/step - loss: 3.0938 - acc: 0.2656 - val_loss: 8.1674 - val_acc: 0.1159\n",
      "Epoch 32/100\n",
      "71/71 [==============================] - 31s 439ms/step - loss: 3.1131 - acc: 0.2579 - val_loss: 8.1237 - val_acc: 0.1133\n",
      "Epoch 33/100\n",
      "71/71 [==============================] - 31s 443ms/step - loss: 3.1058 - acc: 0.2564 - val_loss: 8.1711 - val_acc: 0.1136\n",
      "Epoch 34/100\n",
      "71/71 [==============================] - 31s 437ms/step - loss: 3.0495 - acc: 0.2487 - val_loss: 8.4001 - val_acc: 0.1168\n",
      "Epoch 35/100\n",
      "71/71 [==============================] - 31s 440ms/step - loss: 2.9348 - acc: 0.2809 - val_loss: 8.2398 - val_acc: 0.1086\n",
      "Epoch 36/100\n",
      "71/71 [==============================] - 31s 438ms/step - loss: 2.9396 - acc: 0.2747 - val_loss: 8.3762 - val_acc: 0.1159\n",
      "Epoch 37/100\n",
      "71/71 [==============================] - 31s 438ms/step - loss: 2.7898 - acc: 0.3033 - val_loss: 8.4241 - val_acc: 0.1110\n",
      "Epoch 38/100\n",
      "71/71 [==============================] - 31s 441ms/step - loss: 2.8083 - acc: 0.2894 - val_loss: 8.2075 - val_acc: 0.1028\n",
      "Epoch 39/100\n",
      "71/71 [==============================] - 31s 440ms/step - loss: 2.7718 - acc: 0.3035 - val_loss: 8.5217 - val_acc: 0.1139\n",
      "Epoch 40/100\n",
      "71/71 [==============================] - 31s 442ms/step - loss: 2.6745 - acc: 0.3136 - val_loss: 8.5833 - val_acc: 0.1123\n",
      "Epoch 41/100\n",
      "71/71 [==============================] - 31s 444ms/step - loss: 2.6962 - acc: 0.3027 - val_loss: 8.5816 - val_acc: 0.1107\n",
      "Epoch 42/100\n",
      "71/71 [==============================] - 31s 441ms/step - loss: 2.7134 - acc: 0.3155 - val_loss: 8.6210 - val_acc: 0.1075\n",
      "Epoch 43/100\n",
      "71/71 [==============================] - 31s 442ms/step - loss: 2.5709 - acc: 0.3328 - val_loss: 8.6601 - val_acc: 0.1080\n",
      "Epoch 44/100\n",
      "71/71 [==============================] - 32s 445ms/step - loss: 2.5020 - acc: 0.3412 - val_loss: 8.6494 - val_acc: 0.1065\n",
      "Epoch 45/100\n",
      "71/71 [==============================] - 31s 441ms/step - loss: 2.4256 - acc: 0.3402 - val_loss: 8.6544 - val_acc: 0.1121\n",
      "Epoch 46/100\n",
      "71/71 [==============================] - 32s 448ms/step - loss: 2.3390 - acc: 0.3712 - val_loss: 8.7444 - val_acc: 0.1051\n",
      "Epoch 47/100\n",
      "71/71 [==============================] - 32s 446ms/step - loss: 2.3059 - acc: 0.3741 - val_loss: 8.9537 - val_acc: 0.1049\n",
      "Epoch 48/100\n",
      "71/71 [==============================] - 33s 460ms/step - loss: 2.2155 - acc: 0.3935 - val_loss: 8.9940 - val_acc: 0.1048\n",
      "Epoch 49/100\n",
      "71/71 [==============================] - 31s 441ms/step - loss: 2.1720 - acc: 0.3994 - val_loss: 9.0278 - val_acc: 0.1015\n",
      "Epoch 50/100\n",
      "71/71 [==============================] - 32s 448ms/step - loss: 2.0562 - acc: 0.4432 - val_loss: 8.9996 - val_acc: 0.1022\n",
      "Epoch 51/100\n",
      "71/71 [==============================] - 31s 442ms/step - loss: 2.0055 - acc: 0.4436 - val_loss: 9.3455 - val_acc: 0.1063\n",
      "Epoch 52/100\n",
      "71/71 [==============================] - 32s 447ms/step - loss: 1.9907 - acc: 0.4431 - val_loss: 9.2510 - val_acc: 0.1017\n",
      "Epoch 53/100\n",
      "71/71 [==============================] - 31s 441ms/step - loss: 1.8745 - acc: 0.4777 - val_loss: 9.1306 - val_acc: 0.1041\n",
      "Epoch 54/100\n",
      "71/71 [==============================] - 31s 444ms/step - loss: 1.8391 - acc: 0.4894 - val_loss: 9.3203 - val_acc: 0.1023\n",
      "Epoch 55/100\n",
      "71/71 [==============================] - 32s 445ms/step - loss: 1.7900 - acc: 0.4874 - val_loss: 9.3184 - val_acc: 0.1036\n",
      "Epoch 56/100\n",
      "71/71 [==============================] - 32s 453ms/step - loss: 1.6970 - acc: 0.5448 - val_loss: 9.5013 - val_acc: 0.1023\n",
      "Epoch 57/100\n",
      "71/71 [==============================] - 32s 451ms/step - loss: 1.6293 - acc: 0.5498 - val_loss: 9.3894 - val_acc: 0.0987\n",
      "Epoch 58/100\n",
      "71/71 [==============================] - 31s 443ms/step - loss: 1.6741 - acc: 0.5331 - val_loss: 9.4774 - val_acc: 0.1008\n",
      "Epoch 59/100\n",
      "71/71 [==============================] - 33s 470ms/step - loss: 1.5249 - acc: 0.5816 - val_loss: 9.5302 - val_acc: 0.0972\n",
      "Epoch 60/100\n",
      "71/71 [==============================] - 33s 461ms/step - loss: 1.4027 - acc: 0.6084 - val_loss: 9.5238 - val_acc: 0.0940\n",
      "Epoch 61/100\n",
      "71/71 [==============================] - 36s 514ms/step - loss: 1.4082 - acc: 0.5931 - val_loss: 9.7643 - val_acc: 0.1031\n",
      "Epoch 62/100\n",
      "71/71 [==============================] - 37s 517ms/step - loss: 1.2353 - acc: 0.6546 - val_loss: 9.7734 - val_acc: 0.0961\n",
      "Epoch 63/100\n",
      "71/71 [==============================] - 34s 486ms/step - loss: 1.3059 - acc: 0.6344 - val_loss: 9.9021 - val_acc: 0.0996\n",
      "Epoch 64/100\n",
      "71/71 [==============================] - 34s 486ms/step - loss: 1.2290 - acc: 0.6540 - val_loss: 9.8366 - val_acc: 0.1017\n",
      "Epoch 65/100\n",
      "71/71 [==============================] - 33s 470ms/step - loss: 1.0926 - acc: 0.6950 - val_loss: 9.9885 - val_acc: 0.0994\n",
      "Epoch 66/100\n",
      "71/71 [==============================] - 35s 498ms/step - loss: 1.1096 - acc: 0.7018 - val_loss: 9.9978 - val_acc: 0.1003\n",
      "Epoch 67/100\n",
      "71/71 [==============================] - 36s 503ms/step - loss: 1.1817 - acc: 0.6659 - val_loss: 10.0671 - val_acc: 0.0969\n",
      "Epoch 68/100\n",
      "71/71 [==============================] - 33s 469ms/step - loss: 1.0787 - acc: 0.7008 - val_loss: 10.1442 - val_acc: 0.1012\n",
      "Epoch 69/100\n",
      "71/71 [==============================] - 33s 470ms/step - loss: 0.9995 - acc: 0.7173 - val_loss: 10.1121 - val_acc: 0.0973\n",
      "Epoch 70/100\n",
      "71/71 [==============================] - 33s 469ms/step - loss: 0.9546 - acc: 0.7250 - val_loss: 10.2233 - val_acc: 0.0970\n",
      "Epoch 71/100\n",
      "71/71 [==============================] - 34s 480ms/step - loss: 0.8949 - acc: 0.7500 - val_loss: 10.3332 - val_acc: 0.0985\n",
      "Epoch 72/100\n",
      "71/71 [==============================] - 33s 470ms/step - loss: 0.8082 - acc: 0.7715 - val_loss: 10.2092 - val_acc: 0.1036\n",
      "Epoch 73/100\n",
      "71/71 [==============================] - 33s 470ms/step - loss: 0.8111 - acc: 0.7642 - val_loss: 10.3311 - val_acc: 0.1028\n",
      "Epoch 74/100\n",
      "71/71 [==============================] - 33s 468ms/step - loss: 0.7066 - acc: 0.7991 - val_loss: 10.5324 - val_acc: 0.1033\n",
      "Epoch 75/100\n",
      "71/71 [==============================] - 33s 470ms/step - loss: 0.6956 - acc: 0.8013 - val_loss: 10.6164 - val_acc: 0.1020\n",
      "Epoch 76/100\n",
      "71/71 [==============================] - 34s 476ms/step - loss: 0.6716 - acc: 0.8092 - val_loss: 10.7663 - val_acc: 0.0983\n",
      "Epoch 77/100\n",
      "71/71 [==============================] - 33s 468ms/step - loss: 0.6095 - acc: 0.8322 - val_loss: 10.5354 - val_acc: 0.0957\n",
      "Epoch 78/100\n",
      "71/71 [==============================] - 33s 465ms/step - loss: 0.6052 - acc: 0.8196 - val_loss: 10.7938 - val_acc: 0.0994\n",
      "Epoch 79/100\n",
      "71/71 [==============================] - 33s 465ms/step - loss: 0.5295 - acc: 0.8464 - val_loss: 10.7920 - val_acc: 0.0973\n",
      "Epoch 80/100\n",
      "71/71 [==============================] - 33s 466ms/step - loss: 0.5611 - acc: 0.8366 - val_loss: 10.9447 - val_acc: 0.1005\n",
      "Epoch 81/100\n",
      "71/71 [==============================] - 34s 474ms/step - loss: 0.6727 - acc: 0.7955 - val_loss: 10.7830 - val_acc: 0.1006\n",
      "Epoch 82/100\n",
      "71/71 [==============================] - 34s 478ms/step - loss: 0.5036 - acc: 0.8469 - val_loss: 10.9010 - val_acc: 0.1031\n",
      "Epoch 83/100\n",
      "71/71 [==============================] - 33s 468ms/step - loss: 0.4927 - acc: 0.8481 - val_loss: 11.0613 - val_acc: 0.1032\n",
      "Epoch 84/100\n",
      "71/71 [==============================] - 34s 478ms/step - loss: 0.4651 - acc: 0.8576 - val_loss: 10.9253 - val_acc: 0.1043\n",
      "Epoch 85/100\n",
      "71/71 [==============================] - 33s 468ms/step - loss: 0.4601 - acc: 0.8541 - val_loss: 11.1168 - val_acc: 0.1007\n",
      "Epoch 86/100\n",
      "71/71 [==============================] - 34s 477ms/step - loss: 0.4547 - acc: 0.8607 - val_loss: 10.8060 - val_acc: 0.0954\n",
      "Epoch 87/100\n",
      "71/71 [==============================] - 33s 464ms/step - loss: 0.4936 - acc: 0.8464 - val_loss: 11.0005 - val_acc: 0.1027\n",
      "Epoch 88/100\n",
      "71/71 [==============================] - 31s 435ms/step - loss: 0.4096 - acc: 0.8743 - val_loss: 11.0072 - val_acc: 0.1022\n",
      "Epoch 89/100\n",
      "71/71 [==============================] - 31s 434ms/step - loss: 0.4166 - acc: 0.8645 - val_loss: 11.2749 - val_acc: 0.1015\n",
      "Epoch 90/100\n",
      "71/71 [==============================] - 31s 435ms/step - loss: 0.3616 - acc: 0.8820 - val_loss: 11.1536 - val_acc: 0.1037\n",
      "Epoch 91/100\n",
      "71/71 [==============================] - 31s 433ms/step - loss: 0.3607 - acc: 0.8670 - val_loss: 11.3169 - val_acc: 0.1007\n",
      "Epoch 92/100\n",
      "71/71 [==============================] - 31s 434ms/step - loss: 0.3740 - acc: 0.8694 - val_loss: 11.3560 - val_acc: 0.1038\n",
      "Epoch 93/100\n",
      "71/71 [==============================] - 31s 432ms/step - loss: 0.4028 - acc: 0.8585 - val_loss: 11.3072 - val_acc: 0.1074\n",
      "Epoch 94/100\n",
      "71/71 [==============================] - 31s 438ms/step - loss: 0.3508 - acc: 0.8711 - val_loss: 11.3749 - val_acc: 0.1000\n",
      "Epoch 95/100\n",
      "71/71 [==============================] - 32s 448ms/step - loss: 0.3066 - acc: 0.8875 - val_loss: 11.5007 - val_acc: 0.1034\n",
      "Epoch 96/100\n",
      "71/71 [==============================] - 33s 462ms/step - loss: 0.3003 - acc: 0.8906 - val_loss: 11.5654 - val_acc: 0.1048\n",
      "Epoch 97/100\n",
      "71/71 [==============================] - 32s 452ms/step - loss: 0.3151 - acc: 0.8760 - val_loss: 11.5355 - val_acc: 0.1063\n",
      "Epoch 98/100\n",
      "71/71 [==============================] - 31s 442ms/step - loss: 0.2589 - acc: 0.8972 - val_loss: 11.6070 - val_acc: 0.1063\n",
      "Epoch 99/100\n",
      "71/71 [==============================] - 32s 448ms/step - loss: 0.3027 - acc: 0.8798 - val_loss: 11.6991 - val_acc: 0.1042\n",
      "Epoch 100/100\n",
      "71/71 [==============================] - 32s 445ms/step - loss: 0.3175 - acc: 0.8708 - val_loss: 11.5637 - val_acc: 0.0986\n"
     ]
    }
   ],
   "source": [
    "attnModel.compile(optimizer='Adam', loss=myLoss, metrics=[acc])\n",
    "\n",
    "# Define empty s0 and c0\n",
    "init_s = np.zeros((len(eng_seq_padded), LATENT_DIM_DECODER))\n",
    "init_c = np.zeros((len(eng_seq_padded), LATENT_DIM_DECODER))\n",
    "\n",
    "print(BATCHSIZE)\n",
    "\n",
    "# Train\n",
    "history = attnModel.fit(\n",
    "    x=[eng_seq_padded, man_seq_padded, init_s, init_c],\n",
    "    y=man_target_one_hot,\n",
    "    batch_size=BATCHSIZE,\n",
    "    epochs=EPOCH,\n",
    "    validation_split=0.22\n",
    ")"
   ]
  },
  {
   "cell_type": "markdown",
   "metadata": {},
   "source": [
    "Plot training history."
   ]
  },
  {
   "cell_type": "code",
   "execution_count": 23,
   "metadata": {},
   "outputs": [
    {
     "data": {
      "image/png": "[encoded data removed]",
      "text/plain": [
       "<Figure size 432x288 with 1 Axes>"
      ]
     },
     "metadata": {
      "needs_background": "light"
     },
     "output_type": "display_data"
    },
    {
     "data": {
      "image/png": "[encoded data removed]",
      "text/plain": [
       "<Figure size 432x288 with 1 Axes>"
      ]
     },
     "metadata": {
      "needs_background": "light"
     },
     "output_type": "display_data"
    }
   ],
   "source": [
    "plt.plot(history.history['loss'], label='loss')\n",
    "plt.plot(history.history['val_loss'], label='val_loss')\n",
    "plt.legend()\n",
    "plt.show()\n",
    "\n",
    "plt.plot(history.history['acc'], label='acc')\n",
    "plt.plot(history.history['val_acc'], label='val_acc')\n",
    "plt.legend()\n",
    "plt.show()"
   ]
  },
  {
   "cell_type": "code",
   "execution_count": 24,
   "metadata": {},
   "outputs": [],
   "source": [
    "attnModel.save('attention_model_35_man.h5')"
   ]
  },
  {
   "cell_type": "markdown",
   "metadata": {},
   "source": [
    "# Testing Model"
   ]
  },
  {
   "cell_type": "markdown",
   "metadata": {},
   "source": [
    "Since in the inference model teacher forcing is not available, thus the model needs to be modified to use the previous inference result."
   ]
  },
  {
   "cell_type": "code",
   "execution_count": 25,
   "metadata": {},
   "outputs": [],
   "source": [
    "# Encoder\n",
    "encoder_inf = Model(input_layer_encoder, encoder_out)\n",
    "encoder_out_inf = Input(shape=(max_in_len, LATENT_DIM * 2,))\n",
    "\n",
    "# Decoder\n",
    "decoder_in_inf = Input(shape=(1,))\n",
    "decoder_in_embed_inf = embed_decoder(decoder_in_inf)\n",
    "\n",
    "# Context, concat without teacher forcing.\n",
    "context_inf = iterAttn(encoder_out_inf, s0)\n",
    "decoder_in_concat_inf = concat2([context_inf, decoder_in_embed_inf])\n",
    "\n",
    "# Decoder inference\n",
    "pred, s, c = decoder(decoder_in_concat_inf, initial_state=[s0, c0])\n",
    "pred_out = dense_decode(pred)\n",
    "\n",
    "# Define model\n",
    "decoder_inf = Model(\n",
    "    inputs=[decoder_in_inf, encoder_out_inf, s0, c0],\n",
    "    outputs=[pred_out, s, c]\n",
    ")"
   ]
  },
  {
   "cell_type": "markdown",
   "metadata": {},
   "source": [
    "Reverse the word-to-index maps to convert translated indices to words. Then use the inference encoder and decoder models to create predictions."
   ]
  },
  {
   "cell_type": "code",
   "execution_count": 26,
   "metadata": {},
   "outputs": [],
   "source": [
    "idx2word_in = {b:a for a, b in word2idx_inT.items()}\n",
    "idx2word_out = {b:a for a, b in word2idx_outT.items()}\n",
    "\n",
    "def inference(eng_seq):\n",
    "    # Encode\n",
    "    encoder_output = encoder_inf.predict(eng_seq)\n",
    "    \n",
    "    # Create output seq matrix\n",
    "    target_output = np.zeros((1, 1))\n",
    "    target_output[0, 0] = word2idx_outT['<sos>']\n",
    "    \n",
    "    # init\n",
    "    eos = word2idx_outT['<eos>']\n",
    "    s0 = np.zeros((1, LATENT_DIM_DECODER))\n",
    "    c0 = np.zeros((1, LATENT_DIM_DECODER))\n",
    "    \n",
    "    output_seq = []\n",
    "    s = s0\n",
    "    c = c0\n",
    "    for _ in range(max_out_len):\n",
    "        # Decoder inference\n",
    "        pred, s, c = decoder_inf.predict([target_output, encoder_output, s, c])\n",
    "        \n",
    "        # update output seq\n",
    "        tok = np.argmax(pred.flatten())\n",
    "        if tok == eos:\n",
    "            break\n",
    "        if tok > 0:\n",
    "            word = idx2word_out[tok]\n",
    "            output_seq.append(word)\n",
    "\n",
    "        # Update decoder input\n",
    "        target_output[0, 0] = tok\n",
    "        \n",
    "    sentence = ' '.join(output_seq)\n",
    "    return sentence"
   ]
  },
  {
   "cell_type": "markdown",
   "metadata": {},
   "source": [
    "Observe some of the sample inference results:"
   ]
  },
  {
   "cell_type": "code",
   "execution_count": 27,
   "metadata": {},
   "outputs": [
    {
     "name": "stdout",
     "output_type": "stream",
     "text": [
      "--------------------------------------\n",
      "English: You can go wherever you want.\n",
      "Prediction: mujhe logon ko hon. mein\n",
      "acutual truth: tum jahan jana chaho ja satke ho. <eos>\n",
      "--------------------------------------\n",
      "English: Please speak more loudly.\n",
      "Prediction: hai yeh satke theek farigh\n",
      "acutual truth: braay meharbani thora ouncha bolay. <eos>\n",
      "--------------------------------------\n",
      "English: I don't know her.\n",
      "Prediction: raha ne apni taqreeban bharr\n",
      "acutual truth: mein uss ( larki ) ko nahi jaanta. <eos>\n",
      "--------------------------------------\n",
      "English: I am older than your brother.\n",
      "Prediction: is nahi shukriya nahi woh ki.\n",
      "acutual truth: mein tumahray bhai se bara hon. <eos>\n",
      "--------------------------------------\n",
      "English: This is too big.\n",
      "Prediction: kab aaya. ka ka tum hai. tum ko\n",
      "acutual truth: yeh bohat bara hai. <eos>\n"
     ]
    }
   ],
   "source": [
    "test_actual_sentence=[]\n",
    "test_predicted_sentence=[]\n",
    "for _ in range(5):\n",
    "    i = np.random.choice(len(engT))\n",
    "    eng_sen = eng_seq_paddedT[i:i+1]\n",
    "    man_pred = inference(eng_sen)\n",
    "\n",
    "    print('--------------------------------------')\n",
    "    print('English: {}'.format(engT[i]))\n",
    "    print('Prediction: {}'.format(man_pred))\n",
    "    print('acutual truth: {}'.format(manT[i])) \n",
    "    test_actual_sentence.append(engT[i])\n",
    "    test_predicted_sentence.append(man_pred)"
   ]
  },
  {
   "cell_type": "markdown",
   "metadata": {},
   "source": [
    "# Conclusion"
   ]
  },
  {
   "cell_type": "markdown",
   "metadata": {},
   "source": [
    "This project implements an seq2seq model using LSTM and attention mechanism. It is observed that the model achieves an accuracy of 0.90 on validation data, although some of the translated sentences differ from the actual output to some extent but overall they look fine.\n"
   ]
  },
  {
   "cell_type": "code",
   "execution_count": 28,
   "metadata": {},
   "outputs": [],
   "source": [
    "import nltk\n",
    "pred=[]\n",
    "for words in test_predicted_sentence:\n",
    "    pred.append(words.split())"
   ]
  },
  {
   "cell_type": "code",
   "execution_count": 29,
   "metadata": {},
   "outputs": [],
   "source": [
    "actual=[]\n",
    "for words in test_actual_sentence:\n",
    "    actual.append(words.split())"
   ]
  },
  {
   "cell_type": "code",
   "execution_count": 30,
   "metadata": {},
   "outputs": [
    {
     "name": "stdout",
     "output_type": "stream",
     "text": [
      "0\n"
     ]
    }
   ],
   "source": [
    "from nltk.translate.bleu_score import SmoothingFunction\n",
    "chencherry = SmoothingFunction()\n",
    "BLEUscore = nltk.translate.bleu_score.corpus_bleu(actual,pred,smoothing_function=chencherry.method4)\n",
    "print(BLEUscore)"
   ]
  },
  {
   "cell_type": "code",
   "execution_count": 31,
   "metadata": {},
   "outputs": [
    {
     "name": "stdout",
     "output_type": "stream",
     "text": [
      "BLEU = 0.48 0.3/0.4/0.5/0.7 (BP = 1.000 ratio = 1.208 hyp_len = 29 ref_len = 24)\n"
     ]
    }
   ],
   "source": [
    "import sacrebleu\n",
    "x=sacrebleu.raw_corpus_bleu(test_predicted_sentence,[test_actual_sentence])\n",
    "print(x)"
   ]
  },
  {
   "cell_type": "code",
   "execution_count": null,
   "metadata": {},
   "outputs": [],
   "source": []
  }
 ],
 "metadata": {
  "kernelspec": {
   "display_name": "Python 3",
   "language": "python",
   "name": "python3"
  },
  "language_info": {
   "codemirror_mode": {
    "name": "ipython",
    "version": 3
   },
   "file_extension": ".py",
   "mimetype": "text/x-python",
   "name": "python",
   "nbconvert_exporter": "python",
   "pygments_lexer": "ipython3",
   "version": "3.8.3"
  }
 },
 "nbformat": 4,
 "nbformat_minor": 4
}
